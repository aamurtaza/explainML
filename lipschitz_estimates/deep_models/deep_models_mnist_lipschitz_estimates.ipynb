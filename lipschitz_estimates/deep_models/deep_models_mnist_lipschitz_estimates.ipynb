{
 "cells": [
  {
   "cell_type": "code",
   "execution_count": 1,
   "metadata": {},
   "outputs": [
    {
     "name": "stdout",
     "output_type": "stream",
     "text": [
      "Bismillahir Rahmanir Rahim\n"
     ]
    }
   ],
   "source": [
    "print(\"Bismillahir Rahmanir Rahim\")"
   ]
  },
  {
   "cell_type": "markdown",
   "metadata": {},
   "source": [
    "## Imports and Paths"
   ]
  },
  {
   "cell_type": "code",
   "execution_count": 418,
   "metadata": {},
   "outputs": [],
   "source": [
    "from __future__ import absolute_import\n",
    "from __future__ import division\n",
    "from __future__ import print_function\n",
    "\n",
    "import pathlib\n",
    "import numpy as np\n",
    "# https://pypi.org/project/opencv-python/\n",
    "# https://opencv.org/\n",
    "import cv2\n",
    "import numpy as np\n",
    "import matplotlib.pyplot as plt\n",
    "import pandas as pd\n",
    "from skimage import feature, transform\n",
    "from scipy.stats import mode\n",
    "\n",
    "import tempfile, sys, os\n",
    "sys.path.insert(0, os.path.abspath('..'))\n",
    "\n",
    "import keras\n",
    "from keras.datasets import mnist\n",
    "from keras.models import Sequential, Model\n",
    "from keras.layers import Dense, Dropout, Flatten, Activation\n",
    "from keras.layers import Conv2D, MaxPooling2D\n",
    "from keras import backend as K\n",
    "\n",
    "# Import DeepExplain\n",
    "from deepexplain.tensorflow import DeepExplain"
   ]
  },
  {
   "cell_type": "markdown",
   "metadata": {},
   "source": [
    "# 1. Deep Learning Model"
   ]
  },
  {
   "cell_type": "markdown",
   "metadata": {},
   "source": [
    "## Load and preprocess data\n",
    "\n",
    "Train/test split = 0.80/0.20"
   ]
  },
  {
   "cell_type": "code",
   "execution_count": 266,
   "metadata": {},
   "outputs": [],
   "source": [
    "project_path = pathlib.Path.cwd().parent.parent.parent\n",
    "generate_csv_path = str(project_path) + '/datasets/generated_csvs/'\n",
    "plots_path = str(project_path) + '/plots/'\n",
    "# print(project_path)"
   ]
  },
  {
   "cell_type": "code",
   "execution_count": 4,
   "metadata": {},
   "outputs": [
    {
     "name": "stdout",
     "output_type": "stream",
     "text": [
      "x_train shape: (60000, 28, 28, 1)\n",
      "60000 train samples\n",
      "10000 test samples\n"
     ]
    }
   ],
   "source": [
    "# input image dimensions\n",
    "img_rows, img_cols = 28, 28\n",
    "\n",
    "# the data, shuffled and split between train and test sets\n",
    "(x_train, y_train), (x_test, y_test) = mnist.load_data()\n",
    "\n",
    "if K.image_data_format() == 'channels_first':\n",
    "    x_train = x_train.reshape(x_train.shape[0], 1, img_rows, img_cols)\n",
    "    x_test = x_test.reshape(x_test.shape[0], 1, img_rows, img_cols)\n",
    "    input_shape = (1, img_rows, img_cols)\n",
    "else:\n",
    "    x_train = x_train.reshape(x_train.shape[0], img_rows, img_cols, 1)\n",
    "    x_test = x_test.reshape(x_test.shape[0], img_rows, img_cols, 1)\n",
    "    input_shape = (img_rows, img_cols, 1)\n",
    "\n",
    "x_train = x_train.astype('float32')\n",
    "x_test = x_test.astype('float32')\n",
    "x_train /= 255\n",
    "x_test /= 255\n",
    "x_train = (x_train - 0.5) * 2\n",
    "x_test = (x_test - 0.5) * 2\n",
    "print('x_train shape:', x_train.shape)\n",
    "print(x_train.shape[0], 'train samples')\n",
    "print(x_test.shape[0], 'test samples')"
   ]
  },
  {
   "cell_type": "markdown",
   "metadata": {},
   "source": [
    "## Train and evaluate deep learning model"
   ]
  },
  {
   "cell_type": "code",
   "execution_count": 5,
   "metadata": {},
   "outputs": [
    {
     "name": "stdout",
     "output_type": "stream",
     "text": [
      "WARNING:tensorflow:From /Users/adnanbajwa/.local/share/virtualenvs/thesisproject-kKhBnr9a/lib/python3.6/site-packages/keras/backend/tensorflow_backend.py:66: The name tf.get_default_graph is deprecated. Please use tf.compat.v1.get_default_graph instead.\n",
      "\n",
      "WARNING:tensorflow:From /Users/adnanbajwa/.local/share/virtualenvs/thesisproject-kKhBnr9a/lib/python3.6/site-packages/keras/backend/tensorflow_backend.py:541: The name tf.placeholder is deprecated. Please use tf.compat.v1.placeholder instead.\n",
      "\n",
      "WARNING:tensorflow:From /Users/adnanbajwa/.local/share/virtualenvs/thesisproject-kKhBnr9a/lib/python3.6/site-packages/keras/backend/tensorflow_backend.py:4432: The name tf.random_uniform is deprecated. Please use tf.random.uniform instead.\n",
      "\n",
      "WARNING:tensorflow:From /Users/adnanbajwa/.local/share/virtualenvs/thesisproject-kKhBnr9a/lib/python3.6/site-packages/keras/backend/tensorflow_backend.py:4267: The name tf.nn.max_pool is deprecated. Please use tf.nn.max_pool2d instead.\n",
      "\n",
      "WARNING:tensorflow:From /Users/adnanbajwa/.local/share/virtualenvs/thesisproject-kKhBnr9a/lib/python3.6/site-packages/keras/backend/tensorflow_backend.py:148: The name tf.placeholder_with_default is deprecated. Please use tf.compat.v1.placeholder_with_default instead.\n",
      "\n",
      "WARNING:tensorflow:From /Users/adnanbajwa/.local/share/virtualenvs/thesisproject-kKhBnr9a/lib/python3.6/site-packages/keras/backend/tensorflow_backend.py:3733: calling dropout (from tensorflow.python.ops.nn_ops) with keep_prob is deprecated and will be removed in a future version.\n",
      "Instructions for updating:\n",
      "Please use `rate` instead of `keep_prob`. Rate should be set to `rate = 1 - keep_prob`.\n",
      "WARNING:tensorflow:From /Users/adnanbajwa/.local/share/virtualenvs/thesisproject-kKhBnr9a/lib/python3.6/site-packages/keras/optimizers.py:793: The name tf.train.Optimizer is deprecated. Please use tf.compat.v1.train.Optimizer instead.\n",
      "\n",
      "WARNING:tensorflow:From /Users/adnanbajwa/.local/share/virtualenvs/thesisproject-kKhBnr9a/lib/python3.6/site-packages/tensorflow/python/ops/math_grad.py:1250: add_dispatch_support.<locals>.wrapper (from tensorflow.python.ops.array_ops) is deprecated and will be removed in a future version.\n",
      "Instructions for updating:\n",
      "Use tf.where in 2.0, which has the same broadcast rule as np.where\n",
      "Train on 60000 samples, validate on 10000 samples\n",
      "Epoch 1/1\n",
      "60000/60000 [==============================] - 60s 999us/step - loss: 0.2459 - acc: 0.9242 - val_loss: 0.0517 - val_acc: 0.9824\n",
      "Test loss: 0.05165797256581718\n",
      "Test accuracy: 0.9824\n"
     ]
    }
   ],
   "source": [
    "batch_size = 128\n",
    "num_classes = 10\n",
    "epochs = 1\n",
    "\n",
    "# convert class vectors to binary class matrices\n",
    "y_train = keras.utils.to_categorical(y_train, num_classes)\n",
    "y_test = keras.utils.to_categorical(y_test, num_classes)\n",
    "\n",
    "\n",
    "model = Sequential()\n",
    "model.add(Conv2D(32, kernel_size=(3, 3),\n",
    "                 activation='relu',\n",
    "                 input_shape=input_shape))\n",
    "model.add(Conv2D(64, (3, 3), activation='relu'))\n",
    "model.add(MaxPooling2D(pool_size=(2, 2)))\n",
    "model.add(Dropout(0.25))\n",
    "model.add(Flatten())\n",
    "model.add(Dense(128, activation='relu'))\n",
    "model.add(Dropout(0.5))\n",
    "model.add(Dense(num_classes))\n",
    "model.add(Activation('softmax')) \n",
    "# ^ IMPORTANT: notice that the final softmax must be in its own layer \n",
    "# if we want to target pre-softmax units\n",
    "\n",
    "model.compile(loss=keras.losses.categorical_crossentropy,\n",
    "              optimizer=keras.optimizers.Adadelta(),\n",
    "              metrics=['accuracy'])\n",
    "\n",
    "model.fit(x_train, y_train,\n",
    "          batch_size=batch_size,\n",
    "          epochs=epochs,\n",
    "          verbose=1,\n",
    "          validation_data=(x_test, y_test))\n",
    "score = model.evaluate(x_test, y_test, verbose=0)\n",
    "print('Test loss:', score[0])\n",
    "print('Test accuracy:', score[1])"
   ]
  },
  {
   "cell_type": "code",
   "execution_count": null,
   "metadata": {},
   "outputs": [],
   "source": [
    "# image_index = 44\n",
    "# plt.imshow(x_test[image_index].reshape(28, 28),cmap='Greys')\n",
    "# pred = model.predict(x_test[image_index].reshape(1, 28, 28, 1))\n",
    "# print(pred)\n",
    "# print(pred.argmax())"
   ]
  },
  {
   "cell_type": "markdown",
   "metadata": {},
   "source": [
    "# 2. Explanation Models"
   ]
  },
  {
   "cell_type": "markdown",
   "metadata": {},
   "source": [
    "## Batch processing\n",
    "In this example, we generate explanations for the entire testset (10000 images) using the fast Gradient*Input method.\n",
    "`DeepExplain.explain()` accepts the `batch_size` parameter if the data to process does not fit in memory."
   ]
  },
  {
   "cell_type": "code",
   "execution_count": 591,
   "metadata": {},
   "outputs": [],
   "source": [
    "def plot(data, xi=None, cmap='RdBu_r', axis=plt, percentile=100, dilation=3.0, alpha=0.8):\n",
    "    dx, dy = 0.05, 0.05\n",
    "    xx = np.arange(0.0, data.shape[1], dx)\n",
    "    yy = np.arange(0.0, data.shape[0], dy)\n",
    "    xmin, xmax, ymin, ymax = np.amin(xx), np.amax(xx), np.amin(yy), np.amax(yy)\n",
    "    extent = xmin, xmax, ymin, ymax\n",
    "    cmap_xi = plt.get_cmap('Greys_r')\n",
    "    cmap_xi.set_bad(alpha=0)\n",
    "    overlay = None\n",
    "    if xi is not None:\n",
    "        # Compute edges (to overlay to heatmaps later)\n",
    "        xi_greyscale = xi if len(xi.shape) == 2 else np.mean(xi, axis=-1)\n",
    "        in_image_upscaled = transform.rescale(xi_greyscale, dilation, mode='constant')\n",
    "        edges = feature.canny(in_image_upscaled).astype(float)\n",
    "        edges[edges < 0.5] = np.nan\n",
    "        edges[:5, :] = np.nan\n",
    "        edges[-5:, :] = np.nan\n",
    "        edges[:, :5] = np.nan\n",
    "        edges[:, -5:] = np.nan\n",
    "        overlay = edges\n",
    "\n",
    "    abs_max = np.percentile(np.abs(data), percentile)\n",
    "    abs_min = abs_max\n",
    "\n",
    "    if len(data.shape) == 3:\n",
    "        data = np.mean(data, 2)\n",
    "    if cmap == 'Greys':\n",
    "        axis.imshow(data, cmap=cmap)\n",
    "    if cmap == 'viridis':\n",
    "        axis.imshow(data, cmap=cmap)\n",
    "    else:\n",
    "        axis.imshow(data, extent=extent, interpolation='none', cmap=cmap, vmin=-abs_min, vmax=abs_max)\n",
    "    if overlay is not None:\n",
    "        axis.imshow(overlay, extent=extent, interpolation='none', cmap=cmap_xi, alpha=alpha)\n",
    "    axis.axis('off')\n",
    "    return axis"
   ]
  },
  {
   "cell_type": "markdown",
   "metadata": {},
   "source": [
    "## Define neighbohood "
   ]
  },
  {
   "cell_type": "code",
   "execution_count": 11,
   "metadata": {},
   "outputs": [],
   "source": [
    "def neighbourhood_images(x_test, y_test, digit):\n",
    "    ## Find similar digit images to use as neighbourhood\n",
    "    indices = []\n",
    "    index = 0\n",
    "    for label_array in y_test:\n",
    "        label = np.argmax(label_array)\n",
    "        if label == digit:\n",
    "            indices.append(index)\n",
    "        index = index +1\n",
    "    x_test_neighborhood = x_test[indices]\n",
    "    y_test_neighborhood = y_test[indices]\n",
    "    return x_test_neighborhood, y_test_neighborhood"
   ]
  },
  {
   "cell_type": "code",
   "execution_count": 280,
   "metadata": {},
   "outputs": [
    {
     "name": "stdout",
     "output_type": "stream",
     "text": [
      "[0. 0. 0. 1. 0. 0. 0. 0. 0. 0.]\n"
     ]
    }
   ],
   "source": [
    "digit = 3\n",
    "anchor_index = 0\n",
    "x_test_neighborhood, y_test_neighborhood = neighbourhood_images(x_test, y_test, digit)\n",
    "print(y_test_neighborhood[0])"
   ]
  },
  {
   "cell_type": "markdown",
   "metadata": {},
   "source": [
    "## Interpreting models using DeepExplain"
   ]
  },
  {
   "cell_type": "code",
   "execution_count": 309,
   "metadata": {},
   "outputs": [
    {
     "name": "stdout",
     "output_type": "stream",
     "text": [
      "Digit  3\n",
      "Done\n",
      "CPU times: user 12min 59s, sys: 2min 25s, total: 15min 24s\n",
      "Wall time: 2min 45s\n"
     ]
    }
   ],
   "source": [
    "%%time\n",
    "\"\"\" This block is used for original images\n",
    "\"\"\"\n",
    "with DeepExplain(session=K.get_session()) as de:  # <-- init DeepExplain context\n",
    "    # Need to reconstruct the graph in DeepExplain context, using the same weights.\n",
    "    # With Keras this is very easy:\n",
    "    # 1. Get the input tensor to the original model\n",
    "    input_tensor = model.layers[0].input\n",
    "    \n",
    "    # 2. We now target the output of the last dense layer (pre-softmax)\n",
    "    # To do so, create a new model sharing the same layers untill the last dense (index -2)\n",
    "    fModel = Model(inputs=input_tensor, outputs = model.layers[-2].output)\n",
    "    target_tensor = fModel(input_tensor)\n",
    "    \n",
    "    xs = x_test_neighborhood\n",
    "    ys = y_test_neighborhood\n",
    "    \n",
    "    attributions_sal = de.explain('saliency', target_tensor, input_tensor, xs, ys=ys, batch_size=128)\n",
    "    attributions_gradin = de.explain('grad*input', target_tensor, input_tensor, xs, ys=ys, batch_size=128)\n",
    "    attributions_elrp = de.explain('elrp', target_tensor, input_tensor, xs, ys=ys, batch_size=128)\n",
    "    attributions_occ   = de.explain('occlusion', target_tensor, input_tensor, xs, ys=ys, batch_size=128)\n",
    "    attributions_dl    = de.explain('deeplift', target_tensor, input_tensor, xs, ys=ys, batch_size=128)\n",
    "    print('Digit ', digit)\n",
    "    print (\"Done\")"
   ]
  },
  {
   "cell_type": "markdown",
   "metadata": {},
   "source": [
    "### Explanation calculation time\n",
    "\n",
    "- Digit 3: CPU times: user 12min 43s, sys: 2min 25s, total: 15min 9s, Wall time: 2min 43s\n",
    "\n",
    "- Digit  7: CPU times: user 13min 30s, sys: 2min 31s, total: 16min 2s, Wall time: 2min 50s"
   ]
  },
  {
   "cell_type": "markdown",
   "metadata": {},
   "source": [
    "### Measuring stability using lipschitz estimation"
   ]
  },
  {
   "cell_type": "code",
   "execution_count": 246,
   "metadata": {},
   "outputs": [],
   "source": [
    "def euclidean_distances(x0, Xs):\n",
    "    distances = []\n",
    "    for image in Xs:\n",
    "        df = np.asarray(x0 - image)  # the difference between the images\n",
    "        dst = np.sqrt(np.sum(df**2))\n",
    "        distances.append(dst)\n",
    "    return distances"
   ]
  },
  {
   "cell_type": "code",
   "execution_count": 515,
   "metadata": {},
   "outputs": [],
   "source": [
    "def lipschitz_estimation(anchor_index, x_neighborhood, x_test_neighborhood_exp):\n",
    "    \n",
    "    neighborhood_size = len(x_neighborhood)\n",
    "    filter_indices = np.arange(0, neighborhood_size)\n",
    "    filter_indices = np.delete(filter_indices, anchor_index)\n",
    "    \n",
    "    anchorX = x_neighborhood[anchor_index]\n",
    "    anchorX_exp = x_test_neighborhood_exp[anchor_index]\n",
    "    \n",
    "    nearby_points = x_neighborhood[filter_indices]\n",
    "    nearby_points_exp = x_test_neighborhood_exp[filter_indices]\n",
    "\n",
    "    anchorX_norm2 = euclidean_distances(anchorX, nearby_points)\n",
    "    anchorX_exp_norm2 = euclidean_distances(anchorX_exp, nearby_points_exp)\n",
    "\n",
    "    anchorX_avg_norm2 = np.divide(anchorX_exp_norm2, anchorX_norm2)\n",
    "    anchorX_LC_argmax = np.argmax(anchorX_avg_norm2)\n",
    "    print(anchorX_avg_norm2)\n",
    "    \n",
    "    return anchorX_LC_argmax, anchorX_avg_norm2, nearby_points, nearby_points_exp"
   ]
  },
  {
   "cell_type": "code",
   "execution_count": 516,
   "metadata": {},
   "outputs": [],
   "source": [
    "col_lipschitz = ['digit','image_instance','anchor_index','neighborhood_size',\n",
    "                 'image_instance_exp', 'deviation_indices', 'lc_coefficents',\n",
    "                 'deviation_image_instances', 'deviation_image_instance_exp']"
   ]
  },
  {
   "cell_type": "code",
   "execution_count": 517,
   "metadata": {},
   "outputs": [],
   "source": [
    "def lipschitz_estimates_to_dataframe(explanations_data, x_neighborhood):\n",
    "    \n",
    "    digits = []\n",
    "    image_instance  = []\n",
    "    anchor_indices  = []\n",
    "    neighborhood_size = []\n",
    "    image_instance_exp = dict()\n",
    "    deviation_indices = dict()\n",
    "    lc_coefficents = dict()\n",
    "#     deviation_image_instance  = []\n",
    "    deviation_image_instances  = dict()\n",
    "    deviation_image_instance_exp = dict()\n",
    "\n",
    "    for key, arrtibutions in explanations_data.items():\n",
    "        # calculate lipschitz estimation\n",
    "        anchorX_LC_argmax, anchorX_avg_norm2, nearby_points, nearby_points_exp  = lipschitz_estimation(\n",
    "            anchor_index, x_neighborhood, arrtibutions)\n",
    "\n",
    "        digits.append(digit)\n",
    "        image_instance.append(x_neighborhood[anchor_index])\n",
    "        anchor_indices.append(anchor_index)\n",
    "        neighborhood_size.append(len(x_neighborhood)-1)\n",
    "\n",
    "        # add explanation of anchor_image by key=model_name\n",
    "        image_instance_exp[key] = arrtibutions[anchor_index]\n",
    "        \n",
    "        # add worst deviation_index using it gives the lipschitz estimate   \n",
    "        key_deviation_index = 'deviation_index'\n",
    "        deviation_indices[key] = {key_deviation_index: anchorX_LC_argmax}\n",
    "        argmax_lc_coefficent = anchorX_avg_norm2[anchorX_LC_argmax]\n",
    "        \n",
    "        # add lipschitz estimate value by key=model_name\n",
    "        key_lc_coefficent = 'lc_coefficent_' + key\n",
    "        lc_coefficents[key] = {key_lc_coefficent: argmax_lc_coefficent}\n",
    "        \n",
    "        # add deviation image instance\n",
    "        deviation_image_instances[key] = nearby_points[anchorX_LC_argmax]\n",
    "        \n",
    "        # add deviation explanation correspond to anchor_image by key=model_name\n",
    "        deviation_image_instance_exp[key] = nearby_points_exp[anchorX_LC_argmax]\n",
    "\n",
    "#     devi_index = []\n",
    "#     for key, value in deviation_indices.items():\n",
    "#         devi_index.append(value['deviation_index'])\n",
    "#     dv_mode = mode(devi_index)\n",
    "#     dv_index = dv_mode[0][0]\n",
    "#     print('Most frequent deviation index in lipschitz calculations', dv_index)\n",
    "    \n",
    "#     for key, arrtibutions in explanations_data.items():\n",
    "#         # add deviation image instance\n",
    "#         deviation_image_instance.append(x_neighborhood[dv_index])\n",
    "        \n",
    "    zippedList = list(zip(digits, image_instance, anchor_indices, neighborhood_size,\n",
    "                          [image_instance_exp], [deviation_indices], [lc_coefficents],\n",
    "                          [deviation_image_instances], [deviation_image_instance_exp]))\n",
    "        \n",
    "    df = pd.DataFrame(zippedList, columns=col_lipschitz)\n",
    "    return df"
   ]
  },
  {
   "cell_type": "code",
   "execution_count": 496,
   "metadata": {},
   "outputs": [],
   "source": [
    "exp_models = ['Saliency', 'Grad*input', 'e-LRP', 'Occlusion', 'Deeplift']\n",
    "exp_attributions = [attributions_sal, attributions_gradin, attributions_elrp, attributions_occ, attributions_dl]\n",
    "explanations = dict(zip(exp_models, exp_attributions))"
   ]
  },
  {
   "cell_type": "code",
   "execution_count": 497,
   "metadata": {},
   "outputs": [],
   "source": [
    "# cnn_lipschitz = lipschitz_estimates_to_dataframe(explanations, x_test_neighborhood) # Digit 3\n",
    "# cnn_lipschitz_7 = lipschitz_estimates_to_dataframe(explanations, x_test_neighborhood) # Digit 7"
   ]
  },
  {
   "cell_type": "code",
   "execution_count": 252,
   "metadata": {},
   "outputs": [
    {
     "data": {
      "text/html": [
       "<div>\n",
       "<style scoped>\n",
       "    .dataframe tbody tr th:only-of-type {\n",
       "        vertical-align: middle;\n",
       "    }\n",
       "\n",
       "    .dataframe tbody tr th {\n",
       "        vertical-align: top;\n",
       "    }\n",
       "\n",
       "    .dataframe thead th {\n",
       "        text-align: right;\n",
       "    }\n",
       "</style>\n",
       "<table border=\"1\" class=\"dataframe\">\n",
       "  <thead>\n",
       "    <tr style=\"text-align: right;\">\n",
       "      <th></th>\n",
       "      <th>digit</th>\n",
       "      <th>image_instance</th>\n",
       "      <th>anchor_index</th>\n",
       "      <th>neighborhood_size</th>\n",
       "      <th>image_instance_exp</th>\n",
       "      <th>deviation_indices</th>\n",
       "      <th>lc_coefficents</th>\n",
       "      <th>deviation_image_instances</th>\n",
       "      <th>deviation_image_instance_exp</th>\n",
       "    </tr>\n",
       "  </thead>\n",
       "  <tbody>\n",
       "    <tr>\n",
       "      <td>0</td>\n",
       "      <td>3</td>\n",
       "      <td>[[[-1.0], [-1.0], [-1.0], [-1.0], [-1.0], [-1....</td>\n",
       "      <td>0</td>\n",
       "      <td>1009</td>\n",
       "      <td>{'Saliency': [[[0.0007595], [0.00037728], [0.0...</td>\n",
       "      <td>{'Saliency': {'deviation_index': 294}, 'Grad*i...</td>\n",
       "      <td>{'Saliency': {'lc_coefficent_Saliency': 0.1025...</td>\n",
       "      <td>{'Saliency': [[[-1.], [-1.], [-1.], [-1.], [-1...</td>\n",
       "      <td>{'Saliency': [[[0.000789], [0.00029105], [0.00...</td>\n",
       "    </tr>\n",
       "  </tbody>\n",
       "</table>\n",
       "</div>"
      ],
      "text/plain": [
       "   digit                                     image_instance  anchor_index  \\\n",
       "0      3  [[[-1.0], [-1.0], [-1.0], [-1.0], [-1.0], [-1....             0   \n",
       "\n",
       "   neighborhood_size                                 image_instance_exp  \\\n",
       "0               1009  {'Saliency': [[[0.0007595], [0.00037728], [0.0...   \n",
       "\n",
       "                                   deviation_indices  \\\n",
       "0  {'Saliency': {'deviation_index': 294}, 'Grad*i...   \n",
       "\n",
       "                                      lc_coefficents  \\\n",
       "0  {'Saliency': {'lc_coefficent_Saliency': 0.1025...   \n",
       "\n",
       "                           deviation_image_instances  \\\n",
       "0  {'Saliency': [[[-1.], [-1.], [-1.], [-1.], [-1...   \n",
       "\n",
       "                        deviation_image_instance_exp  \n",
       "0  {'Saliency': [[[0.000789], [0.00029105], [0.00...  "
      ]
     },
     "metadata": {},
     "output_type": "display_data"
    },
    {
     "data": {
      "text/html": [
       "<div>\n",
       "<style scoped>\n",
       "    .dataframe tbody tr th:only-of-type {\n",
       "        vertical-align: middle;\n",
       "    }\n",
       "\n",
       "    .dataframe tbody tr th {\n",
       "        vertical-align: top;\n",
       "    }\n",
       "\n",
       "    .dataframe thead th {\n",
       "        text-align: right;\n",
       "    }\n",
       "</style>\n",
       "<table border=\"1\" class=\"dataframe\">\n",
       "  <thead>\n",
       "    <tr style=\"text-align: right;\">\n",
       "      <th></th>\n",
       "      <th>digit</th>\n",
       "      <th>image_instance</th>\n",
       "      <th>anchor_index</th>\n",
       "      <th>neighborhood_size</th>\n",
       "      <th>image_instance_exp</th>\n",
       "      <th>deviation_indices</th>\n",
       "      <th>lc_coefficents</th>\n",
       "      <th>deviation_image_instances</th>\n",
       "      <th>deviation_image_instance_exp</th>\n",
       "    </tr>\n",
       "  </thead>\n",
       "  <tbody>\n",
       "    <tr>\n",
       "      <td>0</td>\n",
       "      <td>7</td>\n",
       "      <td>[[[-1.0], [-1.0], [-1.0], [-1.0], [-1.0], [-1....</td>\n",
       "      <td>0</td>\n",
       "      <td>1027</td>\n",
       "      <td>{'Saliency': [[[0.00179095], [0.00136184], [0....</td>\n",
       "      <td>{'Saliency': {'deviation_index': 418}, 'Grad*i...</td>\n",
       "      <td>{'Saliency': {'lc_coefficent_Saliency': 0.1572...</td>\n",
       "      <td>{'Saliency': [[[-1.], [-1.], [-1.], [-1.], [-1...</td>\n",
       "      <td>{'Saliency': [[[0.00215252], [0.00175184], [0....</td>\n",
       "    </tr>\n",
       "  </tbody>\n",
       "</table>\n",
       "</div>"
      ],
      "text/plain": [
       "   digit                                     image_instance  anchor_index  \\\n",
       "0      7  [[[-1.0], [-1.0], [-1.0], [-1.0], [-1.0], [-1....             0   \n",
       "\n",
       "   neighborhood_size                                 image_instance_exp  \\\n",
       "0               1027  {'Saliency': [[[0.00179095], [0.00136184], [0....   \n",
       "\n",
       "                                   deviation_indices  \\\n",
       "0  {'Saliency': {'deviation_index': 418}, 'Grad*i...   \n",
       "\n",
       "                                      lc_coefficents  \\\n",
       "0  {'Saliency': {'lc_coefficent_Saliency': 0.1572...   \n",
       "\n",
       "                           deviation_image_instances  \\\n",
       "0  {'Saliency': [[[-1.], [-1.], [-1.], [-1.], [-1...   \n",
       "\n",
       "                        deviation_image_instance_exp  \n",
       "0  {'Saliency': [[[0.00215252], [0.00175184], [0....  "
      ]
     },
     "metadata": {},
     "output_type": "display_data"
    }
   ],
   "source": [
    "display(cnn_lipschitz.head())\n",
    "display(cnn_lipschitz_7.head())"
   ]
  },
  {
   "cell_type": "code",
   "execution_count": 253,
   "metadata": {},
   "outputs": [],
   "source": [
    "# deviation_image_instance_exp = cnn_lipschitz_7['deviation_image_instance_exp'][0]\n",
    "# deviation_image_instance_exp.get('Saliency')\n",
    "# type(deviation_image_instance_exp)"
   ]
  },
  {
   "cell_type": "code",
   "execution_count": 766,
   "metadata": {},
   "outputs": [],
   "source": [
    "# image_instance = cnn_lipschitz['image_instance'][0]\n",
    "# images = {'Original': image_instance}\n",
    "# image_instance_exp = cnn_lipschitz['image_instance_exp'][0]\n",
    "# # value = image_instance_exp['Saliency']\n",
    "# # images.update({'Saliency': value})\n",
    "# images.update(image_instance_exp)\n",
    "\n",
    "# for key, instance in images.items():\n",
    "#     print(key)\n",
    "# #     print(dv_key)"
   ]
  },
  {
   "cell_type": "markdown",
   "metadata": {},
   "source": [
    "## Worst-case deviation visualisation"
   ]
  },
  {
   "cell_type": "code",
   "execution_count": 600,
   "metadata": {},
   "outputs": [],
   "source": [
    "def plot_worst_deviation(data, model_name):\n",
    "    images = dict()\n",
    "    image_instance = data['image_instance'][0]\n",
    "    images.update({'Original': image_instance})\n",
    "    deviation_image_instance = data['deviation_image_instances'][0][model_name]\n",
    "    images.update({'Deviation': deviation_image_instance})\n",
    "\n",
    "    image_instance_exp = data['image_instance_exp'][0]\n",
    "    value = image_instance_exp[model_name]\n",
    "    images.update({model_name: value})\n",
    "\n",
    "    deviation_image_instance_exp = data['deviation_image_instance_exp'][0]\n",
    "    value = deviation_image_instance_exp[model_name]\n",
    "    new_key = model_name + '_Deviation_Instance'\n",
    "    images.update({new_key: value})\n",
    "\n",
    "    n_cols = 2\n",
    "    n_rows = 2\n",
    "    fig, axes = plt.subplots(nrows=n_rows, ncols=n_cols, figsize=(3*n_cols, 3*n_rows))\n",
    "\n",
    "    for i, (key, instance) in enumerate(images.items()):\n",
    "        row, col = divmod(i, 2)\n",
    "        if key == 'Original':\n",
    "            plot(instance.reshape(28,28), cmap='viridis', axis=axes[row, col]).set_title(key)\n",
    "\n",
    "        elif key ==  'Deviation':\n",
    "            pred = model.predict(instance.reshape(1, 28, 28, 1))\n",
    "            axis = plot(instance.reshape(28,28), cmap='viridis', axis=axes[row, col])\n",
    "            pred_prb = str(round(pred[0][pred.argmax()], 3))\n",
    "            title = key + ' (p=' + pred_prb +')'\n",
    "            axis.set_title(title)\n",
    "\n",
    "        elif key == model_name + '_Deviation_Instance':\n",
    "            lc = data['lc_coefficents'][0][model_name]\n",
    "            lc_key = 'lc_coefficent_' + model_name\n",
    "            key = 'L = {}'.format(str(round(lc[lc_key], 3)))\n",
    "            plot(instance.reshape(28,28), axis=axes[row, col]).set_title(key)\n",
    "\n",
    "        else:\n",
    "            plot(instance.reshape(28,28), axis=axes[row, col])\n",
    "    return fig"
   ]
  },
  {
   "cell_type": "code",
   "execution_count": 540,
   "metadata": {
    "collapsed": true
   },
   "outputs": [
    {
     "data": {
      "image/png": "[encoded data removed]",
      "text/plain": [
       "<Figure size 432x432 with 4 Axes>"
      ]
     },
     "metadata": {
      "needs_background": "light"
     },
     "output_type": "display_data"
    },
    {
     "data": {
      "image/png": "[encoded data removed]",
      "text/plain": [
       "<Figure size 432x432 with 4 Axes>"
      ]
     },
     "metadata": {
      "needs_background": "light"
     },
     "output_type": "display_data"
    },
    {
     "data": {
      "image/png": "[encoded data removed]",
      "text/plain": [
       "<Figure size 432x432 with 4 Axes>"
      ]
     },
     "metadata": {
      "needs_background": "light"
     },
     "output_type": "display_data"
    },
    {
     "data": {
      "image/png": "[encoded data removed]",
      "text/plain": [
       "<Figure size 432x432 with 4 Axes>"
      ]
     },
     "metadata": {
      "needs_background": "light"
     },
     "output_type": "display_data"
    },
    {
     "data": {
      "image/png": "[encoded data removed]",
      "text/plain": [
       "<Figure size 432x432 with 4 Axes>"
      ]
     },
     "metadata": {
      "needs_background": "light"
     },
     "output_type": "display_data"
    }
   ],
   "source": [
    "# model_name = 'Saliency'\n",
    "# model_name = 'Grad*input'\n",
    "# model_name = 'e-LRP'\n",
    "# model_name = 'Occlusion'\n",
    "# model_name = 'Deeplift'\n",
    "\n",
    "data = cnn_lipschitz_7\n",
    "d = 7\n",
    "for model_name in exp_models:\n",
    "    fig = plot_worst_deviation(data, model_name)\n",
    "    # fig.text(0.4, 0.004, model_name , fontsize=20, fontstyle='italic')\n",
    "    fig_name =  'digit_' + str(d) + '_deviation_' + model_name\n",
    "    fig.savefig(plots_path + fig_name)"
   ]
  },
  {
   "cell_type": "markdown",
   "metadata": {},
   "source": [
    "## Adding guassian noise\n",
    "\n",
    "1) https://gist.github.com/Prasad9/28f6a2df8e8d463c6ddd040f4f6a028a"
   ]
  },
  {
   "cell_type": "markdown",
   "metadata": {},
   "source": [
    "## Define neighbouthood with noisy images"
   ]
  },
  {
   "cell_type": "code",
   "execution_count": 284,
   "metadata": {},
   "outputs": [
    {
     "name": "stdout",
     "output_type": "stream",
     "text": [
      "[0. 0. 0. 1. 0. 0. 0. 0. 0. 0.]\n"
     ]
    }
   ],
   "source": [
    "digit = 3\n",
    "anchor_index = 0\n",
    "x_test_neighborhood, y_test_neighborhood = neighbourhood_images(x_test, y_test, digit)\n",
    "print(y_test_neighborhood[0])"
   ]
  },
  {
   "cell_type": "code",
   "execution_count": 452,
   "metadata": {},
   "outputs": [],
   "source": [
    "def add_guassian_noise(image, mean=0, sigma=0.1):\n",
    "    gaussian = np.random.normal(mean, sigma, (28, 28)) # np.zeros((28, 28), np.float32)\n",
    "\n",
    "    noisy_image = np.zeros(image.shape, np.float32)\n",
    "    noisy_image[:, :, 0] = image[:, :, 0] + gaussian\n",
    "    cv2.normalize(noisy_image, noisy_image, 0, 255, cv2.NORM_MINMAX, dtype=-1)\n",
    "    noisy_image = noisy_image.astype(np.uint8)\n",
    "    \n",
    "    return noisy_image"
   ]
  },
  {
   "cell_type": "code",
   "execution_count": 545,
   "metadata": {},
   "outputs": [
    {
     "name": "stdout",
     "output_type": "stream",
     "text": [
      "(7, 28, 28, 1)\n",
      "(7, 10)\n"
     ]
    }
   ],
   "source": [
    "image = x_test_neighborhood[0]\n",
    "\n",
    "# noisy_image = add_guassian_noise(image, sigma=0.1)\n",
    "# noisy_image1 = add_guassian_noise(image, sigma=0.125)\n",
    "# x_noise_neighborhood = np.array([image, noisy_image, noisy_image1 ])\n",
    "x_noise_neighborhood = np.array([image,\n",
    "                                 add_guassian_noise(image, sigma=0.075),\n",
    "                                 add_guassian_noise(image, sigma=0.1),\n",
    "                                 add_guassian_noise(image, sigma=0.125),\n",
    "                                 add_guassian_noise(image, sigma=0.15),\n",
    "                                 add_guassian_noise(image, sigma=0.175),\n",
    "                                 add_guassian_noise(image, sigma=0.2)  ])\n",
    "y_noise_neighborhood = y_test_neighborhood[:len(x_noise_neighborhood)]\n",
    "print(x_noise_neighborhood.shape)\n",
    "print(y_noise_neighborhood.shape)"
   ]
  },
  {
   "cell_type": "code",
   "execution_count": 547,
   "metadata": {},
   "outputs": [
    {
     "name": "stdout",
     "output_type": "stream",
     "text": [
      "Noisy Digit 3\n",
      "Done\n",
      "CPU times: user 8.1 s, sys: 501 ms, total: 8.6 s\n",
      "Wall time: 4.26 s\n"
     ]
    }
   ],
   "source": [
    "%%time\n",
    "\"\"\" This block is used for noisy images\n",
    "\"\"\"\n",
    "with DeepExplain(session=K.get_session()) as de:  # <-- init DeepExplain context\n",
    "    # Need to reconstruct the graph in DeepExplain context, using the same weights.\n",
    "    # With Keras this is very easy:\n",
    "    # 1. Get the input tensor to the original model\n",
    "    input_tensor = model.layers[0].input\n",
    "    \n",
    "    # 2. We now target the output of the last dense layer (pre-softmax)\n",
    "    # To do so, create a new model sharing the same layers untill the last dense (index -2)\n",
    "    fModel = Model(inputs=input_tensor, outputs = model.layers[-2].output)\n",
    "    target_tensor = fModel(input_tensor)\n",
    "    \n",
    "    xs = x_noise_neighborhood\n",
    "    ys = y_noise_neighborhood\n",
    "    \n",
    "    attributions_sal_noise = de.explain('saliency', target_tensor, input_tensor, xs, ys=ys)\n",
    "    attributions_gradin_noise = de.explain('grad*input', target_tensor, input_tensor, xs, ys=ys)\n",
    "    attributions_elrp_noise = de.explain('elrp', target_tensor, input_tensor, xs, ys=ys)\n",
    "    attributions_occ_noise = de.explain('occlusion', target_tensor, input_tensor, xs, ys=ys)\n",
    "    attributions_dl_noise = de.explain('deeplift', target_tensor, input_tensor, xs, ys=ys)\n",
    "    print('Noisy Digit', digit)\n",
    "    print (\"Done\")"
   ]
  },
  {
   "cell_type": "code",
   "execution_count": 693,
   "metadata": {},
   "outputs": [
    {
     "name": "stdout",
     "output_type": "stream",
     "text": [
      "dict_keys(['Saliency', 'Grad*input', 'e-LRP', 'Occlusion', 'Deeplift'])\n",
      "7\n"
     ]
    }
   ],
   "source": [
    "x_noise_neighborhood_exp = list()\n",
    "for row in range(0, len(x_noise_neighborhood)):\n",
    "    exp = dict()\n",
    "    for key, attr in explanations_noise.items():\n",
    "        exp[key] = attr[row]\n",
    "    x_noise_neighborhood_exp.append(exp)\n",
    "print(x_noise_neighborhood_exp[0].keys())\n",
    "print(len(x_noise_neighborhood_exp))"
   ]
  },
  {
   "cell_type": "code",
   "execution_count": 548,
   "metadata": {},
   "outputs": [],
   "source": [
    "exp_attributions_noise = [attributions_sal_noise,\n",
    "                          attributions_gradin_noise,\n",
    "                          attributions_elrp_noise,\n",
    "                          attributions_occ_noise,\n",
    "                          attributions_dl_noise]\n",
    "explanations_noise = dict(zip(exp_models, exp_attributions_noise))"
   ]
  },
  {
   "cell_type": "code",
   "execution_count": 549,
   "metadata": {},
   "outputs": [
    {
     "name": "stdout",
     "output_type": "stream",
     "text": [
      "[0.00034453 0.00032744 0.00033185 0.00034955 0.0003288  0.00031289]\n",
      "[0.08539764 0.0859476  0.08184727 0.07796966 0.0792239  0.07543866]\n",
      "[0.08539785 0.08594692 0.08184658 0.0779703  0.07922364 0.07543717]\n",
      "[0.08201528 0.08064491 0.07619622 0.07255271 0.07244799 0.06874646]\n",
      "[0.08524362 0.08583808 0.08168384 0.07788365 0.07936324 0.07522176]\n"
     ]
    }
   ],
   "source": [
    "cnn_lipschitz_3_noise = lipschitz_estimates_to_dataframe(explanations_noise, x_noise_neighborhood) # Digit 3\n",
    "# cnn_lipschitz_7_noise = lipschitz_estimates_to_dataframe(explanations_noise, x_noise_neighborhood) # Digit 7"
   ]
  },
  {
   "cell_type": "code",
   "execution_count": 550,
   "metadata": {},
   "outputs": [
    {
     "data": {
      "text/html": [
       "<div>\n",
       "<style scoped>\n",
       "    .dataframe tbody tr th:only-of-type {\n",
       "        vertical-align: middle;\n",
       "    }\n",
       "\n",
       "    .dataframe tbody tr th {\n",
       "        vertical-align: top;\n",
       "    }\n",
       "\n",
       "    .dataframe thead th {\n",
       "        text-align: right;\n",
       "    }\n",
       "</style>\n",
       "<table border=\"1\" class=\"dataframe\">\n",
       "  <thead>\n",
       "    <tr style=\"text-align: right;\">\n",
       "      <th></th>\n",
       "      <th>digit</th>\n",
       "      <th>image_instance</th>\n",
       "      <th>anchor_index</th>\n",
       "      <th>neighborhood_size</th>\n",
       "      <th>image_instance_exp</th>\n",
       "      <th>deviation_indices</th>\n",
       "      <th>lc_coefficents</th>\n",
       "      <th>deviation_image_instances</th>\n",
       "      <th>deviation_image_instance_exp</th>\n",
       "    </tr>\n",
       "  </thead>\n",
       "  <tbody>\n",
       "    <tr>\n",
       "      <td>0</td>\n",
       "      <td>3</td>\n",
       "      <td>[[[-1.0], [-1.0], [-1.0], [-1.0], [-1.0], [-1....</td>\n",
       "      <td>0</td>\n",
       "      <td>6</td>\n",
       "      <td>{'Saliency': [[[0.0007595], [0.00037728], [0.0...</td>\n",
       "      <td>{'Saliency': {'deviation_index': 3}, 'Grad*inp...</td>\n",
       "      <td>{'Saliency': {'lc_coefficent_Saliency': 0.0003...</td>\n",
       "      <td>{'Saliency': [[[35.], [32.], [35.], [25.], [43...</td>\n",
       "      <td>{'Saliency': [[[0.00114761], [0.00104015], [0....</td>\n",
       "    </tr>\n",
       "  </tbody>\n",
       "</table>\n",
       "</div>"
      ],
      "text/plain": [
       "   digit                                     image_instance  anchor_index  \\\n",
       "0      3  [[[-1.0], [-1.0], [-1.0], [-1.0], [-1.0], [-1....             0   \n",
       "\n",
       "   neighborhood_size                                 image_instance_exp  \\\n",
       "0                  6  {'Saliency': [[[0.0007595], [0.00037728], [0.0...   \n",
       "\n",
       "                                   deviation_indices  \\\n",
       "0  {'Saliency': {'deviation_index': 3}, 'Grad*inp...   \n",
       "\n",
       "                                      lc_coefficents  \\\n",
       "0  {'Saliency': {'lc_coefficent_Saliency': 0.0003...   \n",
       "\n",
       "                           deviation_image_instances  \\\n",
       "0  {'Saliency': [[[35.], [32.], [35.], [25.], [43...   \n",
       "\n",
       "                        deviation_image_instance_exp  \n",
       "0  {'Saliency': [[[0.00114761], [0.00104015], [0....  "
      ]
     },
     "metadata": {},
     "output_type": "display_data"
    }
   ],
   "source": [
    "display(cnn_lipschitz_3_noise.head())"
   ]
  },
  {
   "cell_type": "code",
   "execution_count": 580,
   "metadata": {
    "collapsed": true
   },
   "outputs": [
    {
     "data": {
      "image/png": "[encoded data removed]",
      "text/plain": [
       "<Figure size 432x432 with 4 Axes>"
      ]
     },
     "metadata": {
      "needs_background": "light"
     },
     "output_type": "display_data"
    },
    {
     "data": {
      "image/png": "[encoded data removed]",
      "text/plain": [
       "<Figure size 432x432 with 4 Axes>"
      ]
     },
     "metadata": {
      "needs_background": "light"
     },
     "output_type": "display_data"
    },
    {
     "data": {
      "image/png": "[encoded data removed]",
      "text/plain": [
       "<Figure size 432x432 with 4 Axes>"
      ]
     },
     "metadata": {
      "needs_background": "light"
     },
     "output_type": "display_data"
    },
    {
     "data": {
      "image/png": "[encoded data removed]",
      "text/plain": [
       "<Figure size 432x432 with 4 Axes>"
      ]
     },
     "metadata": {
      "needs_background": "light"
     },
     "output_type": "display_data"
    },
    {
     "data": {
      "image/png": "[encoded data removed]",
      "text/plain": [
       "<Figure size 432x432 with 4 Axes>"
      ]
     },
     "metadata": {
      "needs_background": "light"
     },
     "output_type": "display_data"
    }
   ],
   "source": [
    "data = cnn_lipschitz_3_noise\n",
    "d = 3\n",
    "for model_name in exp_models:\n",
    "    fig = plot_worst_deviation(data, model_name)\n",
    "    fig_name =  'noise_' +' digit_' + str(d) + '_deviation_' + model_name\n",
    "    fig.savefig(plots_path + fig_name)"
   ]
  },
  {
   "cell_type": "code",
   "execution_count": 723,
   "metadata": {},
   "outputs": [],
   "source": [
    "def lipschitz_ratios(anchor_index, x_neighborhood, x_test_neighborhood_exp):\n",
    "    \n",
    "    neighborhood_size = len(x_neighborhood)\n",
    "    filter_indices = np.arange(0, neighborhood_size)\n",
    "    filter_indices = np.delete(filter_indices, anchor_index)\n",
    "\n",
    "    anchorX = x_neighborhood[anchor_index]\n",
    "    anchorX_exp_dict = x_test_neighborhood_exp[anchor_index]\n",
    "    anchorX_exp = list(anchorX_exp_dict.values())\n",
    "\n",
    "    nearby_points = x_neighborhood[filter_indices]\n",
    "    nearby_points_exp_dict = x_test_neighborhood_exp[filter_indices]\n",
    "    nearby_points_exp = list(nearby_points_exp_dict[0].values())\n",
    "\n",
    "    anchorX_norm2 = euclidean_distances(anchorX, nearby_points)\n",
    "    anchorX_exp_norm2 = euclidean_distances(anchorX_exp, nearby_points_exp)\n",
    "\n",
    "    anchorX_avg_norm2 = np.divide(anchorX_exp_norm2, anchorX_norm2)\n",
    "    return anchorX_avg_norm2"
   ]
  },
  {
   "cell_type": "code",
   "execution_count": 641,
   "metadata": {},
   "outputs": [],
   "source": [
    "# images_noise = dict()\n",
    "# images_noise.update({'Noise': x_noise_neighborhood[1:]})\n",
    "# images_noise.update(explanations_noise)\n",
    "# for index in range(0, len(images_noise)):\n",
    "#     print('index', index)\n",
    "#     for i, (key, attr) in enumerate(images_noise.items()):\n",
    "#         print('col', i)\n",
    "#         print(key)"
   ]
  },
  {
   "cell_type": "code",
   "execution_count": 764,
   "metadata": {},
   "outputs": [
    {
     "name": "stdout",
     "output_type": "stream",
     "text": [
      "CPU times: user 1.05 s, sys: 17 ms, total: 1.07 s\n",
      "Wall time: 1.06 s\n"
     ]
    },
    {
     "data": {
      "image/png": "[encoded data removed]",
      "text/plain": [
       "<Figure size 1296x1512 with 42 Axes>"
      ]
     },
     "metadata": {
      "needs_background": "light"
     },
     "output_type": "display_data"
    }
   ],
   "source": [
    "%%time\n",
    "\n",
    "n_cols = 6\n",
    "n_rows = len(x_noise_neighborhood) # 7 \n",
    "\n",
    "fig, axes = plt.subplots(nrows=n_rows, ncols=n_cols, figsize=(3*n_cols, 3*n_rows))\n",
    "\n",
    "images = dict()\n",
    "image_instance = data['image_instance'][0]\n",
    "images = {'Original': image_instance}\n",
    "image_instance_exp = data['image_instance_exp'][0]\n",
    "images.update(image_instance_exp)\n",
    "\n",
    "for i, (key, instance) in enumerate(images.items()):\n",
    "    if i == 0:\n",
    "        plot(instance.reshape(28,28), cmap='viridis', axis=axes[0, 0]).set_title(key)\n",
    "    else:\n",
    "        plot(instance.reshape(28,28), axis=axes[0, i]).set_title(key)\n",
    "\n",
    "images_noise = dict()\n",
    "images_noise.update({'Noise': x_noise_neighborhood[1:]})\n",
    "images_noise.update(explanations_noise)\n",
    "\n",
    "for row in range(1, len(images_noise)+1):\n",
    "    index = row - 1\n",
    "    for col, (key, attr) in enumerate(images_noise.items()):\n",
    "        if key == 'Noise':\n",
    "            instance = attr[index]\n",
    "            pred = model.predict(instance.reshape(1, 28, 28, 1))\n",
    "            axis = plot(instance.reshape(28,28), cmap='viridis', axis=axes[row, col])\n",
    "            pred_prb = str(round(pred[0][pred.argmax()], 4))\n",
    "            title = 'P(' + str(d) + ')=' + pred_prb\n",
    "            axis.set_title(title)\n",
    "            \n",
    "        else:\n",
    "            instance = attr[index]\n",
    "            lc = data['lc_coefficents'][0][key]\n",
    "            lc_key = 'lc_coefficent_' + key\n",
    "            dv_key = '& = {}'.format(str(round(lc[lc_key], 2)))\n",
    "            \n",
    "            original_point_index = 0\n",
    "            filtr = [original_point_index, row]\n",
    "            x_neighborhood = x_noise_neighborhood[filtr]\n",
    "            x_neighborhood_exp = np.array(x_noise_neighborhood_exp)[filtr]\n",
    "            anchorX_avg_norm2 = lipschitz_ratios(original_point_index, x_neighborhood, x_neighborhood_exp)\n",
    "            ratio_key = anchorX_avg_norm2[col-1]\n",
    "            # https://pythonforundergradengineers.com/unicode-characters-in-python.html\n",
    "            ratio_key = u'\\u03B4 = {}'.format(str(round(ratio_key, 3)))\n",
    "            plot(instance.reshape(28,28), axis=axes[row, col]).set_title(ratio_key)\n",
    "            \n",
    "fig_name =  'lc_ratios_' +' digit_' + str(d)\n",
    "fig.savefig(plots_path + fig_name)"
   ]
  },
  {
   "cell_type": "code",
   "execution_count": null,
   "metadata": {},
   "outputs": [],
   "source": []
  },
  {
   "cell_type": "markdown",
   "metadata": {},
   "source": [
    "## Boxplot visualisation of lipschitz estimation on 100 image instances"
   ]
  },
  {
   "cell_type": "code",
   "execution_count": null,
   "metadata": {},
   "outputs": [],
   "source": []
  },
  {
   "cell_type": "code",
   "execution_count": null,
   "metadata": {},
   "outputs": [],
   "source": []
  },
  {
   "cell_type": "markdown",
   "metadata": {},
   "source": [
    "## Exploring section (LIME, SHAP)\n",
    "    Does not include in work"
   ]
  },
  {
   "cell_type": "code",
   "execution_count": 283,
   "metadata": {},
   "outputs": [
    {
     "data": {
      "text/html": [
       "<div>\n",
       "<style scoped>\n",
       "    .dataframe tbody tr th:only-of-type {\n",
       "        vertical-align: middle;\n",
       "    }\n",
       "\n",
       "    .dataframe tbody tr th {\n",
       "        vertical-align: top;\n",
       "    }\n",
       "\n",
       "    .dataframe thead th {\n",
       "        text-align: right;\n",
       "    }\n",
       "</style>\n",
       "<table border=\"1\" class=\"dataframe\">\n",
       "  <thead>\n",
       "    <tr style=\"text-align: right;\">\n",
       "      <th></th>\n",
       "      <th>instance</th>\n",
       "      <th>anchor_x_index</th>\n",
       "      <th>lc_coefficient_lime</th>\n",
       "      <th>x_deviation_index_lime</th>\n",
       "      <th>lc_coefficient_shap</th>\n",
       "      <th>x_deviation_index_shap</th>\n",
       "      <th>radiuses</th>\n",
       "      <th>neighborhood_size</th>\n",
       "    </tr>\n",
       "  </thead>\n",
       "  <tbody>\n",
       "    <tr>\n",
       "      <td>0</td>\n",
       "      <td>[5.1, 3.4, 1.5, 0.2]</td>\n",
       "      <td>0</td>\n",
       "      <td>2.803608</td>\n",
       "      <td>1</td>\n",
       "      <td>0.203645</td>\n",
       "      <td>11</td>\n",
       "      <td>1.0</td>\n",
       "      <td>8</td>\n",
       "    </tr>\n",
       "    <tr>\n",
       "      <td>1</td>\n",
       "      <td>[5.0, 3.4, 1.6, 0.4]</td>\n",
       "      <td>1</td>\n",
       "      <td>2.803608</td>\n",
       "      <td>0</td>\n",
       "      <td>0.149435</td>\n",
       "      <td>11</td>\n",
       "      <td>1.0</td>\n",
       "      <td>8</td>\n",
       "    </tr>\n",
       "    <tr>\n",
       "      <td>2</td>\n",
       "      <td>[7.2, 3.6, 6.1, 2.5]</td>\n",
       "      <td>2</td>\n",
       "      <td>0.018179</td>\n",
       "      <td>13</td>\n",
       "      <td>0.025685</td>\n",
       "      <td>8</td>\n",
       "      <td>1.0</td>\n",
       "      <td>6</td>\n",
       "    </tr>\n",
       "    <tr>\n",
       "      <td>3</td>\n",
       "      <td>[6.3, 2.7, 4.9, 1.8]</td>\n",
       "      <td>3</td>\n",
       "      <td>0.690476</td>\n",
       "      <td>24</td>\n",
       "      <td>0.496384</td>\n",
       "      <td>4</td>\n",
       "      <td>1.0</td>\n",
       "      <td>10</td>\n",
       "    </tr>\n",
       "    <tr>\n",
       "      <td>4</td>\n",
       "      <td>[6.7, 3.0, 5.0, 1.7]</td>\n",
       "      <td>4</td>\n",
       "      <td>1.002488</td>\n",
       "      <td>7</td>\n",
       "      <td>0.515260</td>\n",
       "      <td>16</td>\n",
       "      <td>1.0</td>\n",
       "      <td>9</td>\n",
       "    </tr>\n",
       "  </tbody>\n",
       "</table>\n",
       "</div>"
      ],
      "text/plain": [
       "               instance  anchor_x_index  lc_coefficient_lime  \\\n",
       "0  [5.1, 3.4, 1.5, 0.2]               0             2.803608   \n",
       "1  [5.0, 3.4, 1.6, 0.4]               1             2.803608   \n",
       "2  [7.2, 3.6, 6.1, 2.5]               2             0.018179   \n",
       "3  [6.3, 2.7, 4.9, 1.8]               3             0.690476   \n",
       "4  [6.7, 3.0, 5.0, 1.7]               4             1.002488   \n",
       "\n",
       "  x_deviation_index_lime  lc_coefficient_shap x_deviation_index_shap  \\\n",
       "0                      1             0.203645                     11   \n",
       "1                      0             0.149435                     11   \n",
       "2                     13             0.025685                      8   \n",
       "3                     24             0.496384                      4   \n",
       "4                      7             0.515260                     16   \n",
       "\n",
       "   radiuses  neighborhood_size  \n",
       "0       1.0                  8  \n",
       "1       1.0                  8  \n",
       "2       1.0                  6  \n",
       "3       1.0                 10  \n",
       "4       1.0                  9  "
      ]
     },
     "metadata": {},
     "output_type": "display_data"
    }
   ],
   "source": [
    "epsilon1 = rf_lipschitz.loc[rf_lipschitz['neighborhood_size'] > 0]\n",
    "epsilon1 = epsilon1[epsilon1['radiuses'] == 1.00]\n",
    "display(epsilon1.head())"
   ]
  },
  {
   "cell_type": "code",
   "execution_count": 286,
   "metadata": {},
   "outputs": [
    {
     "name": "stdout",
     "output_type": "stream",
     "text": [
      "\n",
      "LIME, epsilon 1.00, Aggregated L(x) =  0.929153143708511\n",
      "SHAP, epsilon 1.00, Aggregated L(x) =  0.24586400627509725\n"
     ]
    }
   ],
   "source": [
    "epsilon1_lc_lime_aggre = np.mean(epsilon1['lc_coefficient_lime'])\n",
    "epsilon1_lc_shap_aggre = np.mean(epsilon1['lc_coefficient_shap'])\n",
    "print(\"\\nLIME, epsilon 1.00, Aggregated L(x) = \", epsilon1_lc_lime_aggre)\n",
    "print(\"SHAP, epsilon 1.00, Aggregated L(x) = \", epsilon1_lc_shap_aggre)"
   ]
  },
  {
   "cell_type": "code",
   "execution_count": 287,
   "metadata": {},
   "outputs": [],
   "source": [
    "lc_lime_df = epsilon1.loc[:, ['lc_coefficient_lime']]\n",
    "lc_lime_df.rename(columns={'lc_coefficient_lime': 'Lipschitz Estimates'}, inplace=True)\n",
    "lc_lime_df['method'] = 'LIME'\n",
    "lc_lime_df['Dataset'] = 'Iris'\n",
    "\n",
    "lc_shap_df = epsilon1.loc[:, ['lc_coefficient_shap']]\n",
    "lc_shap_df.rename(columns={'lc_coefficient_shap': 'Lipschitz Estimates'}, inplace=True)\n",
    "lc_shap_df['method'] = 'SHAP'\n",
    "lc_shap_df['Dataset'] = 'Iris'"
   ]
  },
  {
   "cell_type": "markdown",
   "metadata": {},
   "source": [
    "# 5. Visualize Results"
   ]
  },
  {
   "cell_type": "markdown",
   "metadata": {},
   "source": [
    "### Highest deviation example and corresponding LIME and SHAP examples"
   ]
  },
  {
   "cell_type": "code",
   "execution_count": 507,
   "metadata": {},
   "outputs": [
    {
     "name": "stdout",
     "output_type": "stream",
     "text": [
      "['sepal length (cm)', 'sepal width (cm)', 'petal length (cm)', 'petal width (cm)']\n",
      "\n",
      "Anchor Point in worst deviation case\n",
      "[5.1 3.4 1.5 0.2]\n",
      "[0.029, 0.015, 0.428, 0.433]\n",
      "[0.067, 0.003, 0.294, 0.302]\n",
      "\n",
      "Deviation Point in LIME explanation\n",
      "[5.  3.4 1.6 0.4]\n",
      "[0.004, 0.008, -0.039, -0.07]\n",
      "\n",
      "Deviation Point in SHAP explanation\n",
      "[5.5 3.5 1.3 0.2]\n",
      "[-0.023, 0.003, 0.312, 0.319]\n"
     ]
    }
   ],
   "source": [
    "print(feature_names)\n",
    "\n",
    "print('\\nAnchor Point in worst deviation case')\n",
    "print(anchor_point)\n",
    "print(anchor_point_lime_exp)\n",
    "print(anchor_point_shap_exp)\n",
    "\n",
    "print('\\nDeviation Point in LIME explanation')\n",
    "print(deviation_point_lime)\n",
    "print(deviation_point_lime_exp)\n",
    "\n",
    "print('\\nDeviation Point in SHAP explanation')\n",
    "print(deviation_point_shap)\n",
    "print(deviation_point_shap_exp)"
   ]
  },
  {
   "cell_type": "markdown",
   "metadata": {},
   "source": [
    "## Final plot to explain deviation as unstability in explanations"
   ]
  },
  {
   "cell_type": "markdown",
   "metadata": {},
   "source": [
    "### Visualize lipschitz estimations for all test instances"
   ]
  },
  {
   "cell_type": "code",
   "execution_count": 505,
   "metadata": {},
   "outputs": [],
   "source": [
    "box_plot_df = lc_lime_df.append(lc_shap_df)"
   ]
  },
  {
   "cell_type": "code",
   "execution_count": 509,
   "metadata": {},
   "outputs": [],
   "source": [
    "filename = 'iris_box_plot_df.csv'\n",
    "box_plot_df.to_csv(generate_csv_path + filename, index=True)"
   ]
  },
  {
   "cell_type": "code",
   "execution_count": 503,
   "metadata": {},
   "outputs": [
    {
     "data": {
      "text/html": [
       "[None]"
      ],
      "text/plain": [
       "[None]"
      ]
     },
     "execution_count": 503,
     "metadata": {},
     "output_type": "execute_result"
    },
    {
     "data": {
      "image/png": "[encoded data removed]",
      "text/plain": [
       "<Figure size 432x288 with 1 Axes>"
      ]
     },
     "metadata": {
      "needs_background": "light"
     },
     "output_type": "display_data"
    }
   ],
   "source": [
    "box_plot = sns.boxplot(x=\"Dataset\", y=\"Lipschitz Estimates\", hue=\"method\", data=box_plot_df)\n",
    "box_plot.set(yscale=\"log\")\n",
    "# sns.despine(offset=10, trim=True)"
   ]
  },
  {
   "cell_type": "markdown",
   "metadata": {},
   "source": [
    "### Visualize lipschitz estimations for all test instances from UCI classification datasets"
   ]
  },
  {
   "cell_type": "code",
   "execution_count": 517,
   "metadata": {},
   "outputs": [
    {
     "data": {
      "text/html": [
       "<div>\n",
       "<style scoped>\n",
       "    .dataframe tbody tr th:only-of-type {\n",
       "        vertical-align: middle;\n",
       "    }\n",
       "\n",
       "    .dataframe tbody tr th {\n",
       "        vertical-align: top;\n",
       "    }\n",
       "\n",
       "    .dataframe thead th {\n",
       "        text-align: right;\n",
       "    }\n",
       "</style>\n",
       "<table border=\"1\" class=\"dataframe\">\n",
       "  <thead>\n",
       "    <tr style=\"text-align: right;\">\n",
       "      <th></th>\n",
       "      <th>Lipschitz Estimates</th>\n",
       "      <th>method</th>\n",
       "      <th>Dataset</th>\n",
       "    </tr>\n",
       "  </thead>\n",
       "  <tbody>\n",
       "    <tr>\n",
       "      <td>0</td>\n",
       "      <td>2.803608</td>\n",
       "      <td>LIME</td>\n",
       "      <td>Iris</td>\n",
       "    </tr>\n",
       "    <tr>\n",
       "      <td>1</td>\n",
       "      <td>2.803608</td>\n",
       "      <td>LIME</td>\n",
       "      <td>Iris</td>\n",
       "    </tr>\n",
       "    <tr>\n",
       "      <td>2</td>\n",
       "      <td>0.018179</td>\n",
       "      <td>LIME</td>\n",
       "      <td>Iris</td>\n",
       "    </tr>\n",
       "    <tr>\n",
       "      <td>3</td>\n",
       "      <td>0.690476</td>\n",
       "      <td>LIME</td>\n",
       "      <td>Iris</td>\n",
       "    </tr>\n",
       "    <tr>\n",
       "      <td>4</td>\n",
       "      <td>1.002488</td>\n",
       "      <td>LIME</td>\n",
       "      <td>Iris</td>\n",
       "    </tr>\n",
       "  </tbody>\n",
       "</table>\n",
       "</div>"
      ],
      "text/plain": [
       "   Lipschitz Estimates method Dataset\n",
       "0             2.803608   LIME    Iris\n",
       "1             2.803608   LIME    Iris\n",
       "2             0.018179   LIME    Iris\n",
       "3             0.690476   LIME    Iris\n",
       "4             1.002488   LIME    Iris"
      ]
     },
     "metadata": {},
     "output_type": "display_data"
    },
    {
     "data": {
      "text/html": [
       "<div>\n",
       "<style scoped>\n",
       "    .dataframe tbody tr th:only-of-type {\n",
       "        vertical-align: middle;\n",
       "    }\n",
       "\n",
       "    .dataframe tbody tr th {\n",
       "        vertical-align: top;\n",
       "    }\n",
       "\n",
       "    .dataframe thead th {\n",
       "        text-align: right;\n",
       "    }\n",
       "</style>\n",
       "<table border=\"1\" class=\"dataframe\">\n",
       "  <thead>\n",
       "    <tr style=\"text-align: right;\">\n",
       "      <th></th>\n",
       "      <th>Lipschitz Estimates</th>\n",
       "      <th>method</th>\n",
       "      <th>Dataset</th>\n",
       "    </tr>\n",
       "  </thead>\n",
       "  <tbody>\n",
       "    <tr>\n",
       "      <td>38</td>\n",
       "      <td>0.009346</td>\n",
       "      <td>SHAP</td>\n",
       "      <td>Glass</td>\n",
       "    </tr>\n",
       "    <tr>\n",
       "      <td>39</td>\n",
       "      <td>0.072976</td>\n",
       "      <td>SHAP</td>\n",
       "      <td>Glass</td>\n",
       "    </tr>\n",
       "    <tr>\n",
       "      <td>40</td>\n",
       "      <td>0.034557</td>\n",
       "      <td>SHAP</td>\n",
       "      <td>Glass</td>\n",
       "    </tr>\n",
       "    <tr>\n",
       "      <td>41</td>\n",
       "      <td>0.055203</td>\n",
       "      <td>SHAP</td>\n",
       "      <td>Glass</td>\n",
       "    </tr>\n",
       "    <tr>\n",
       "      <td>42</td>\n",
       "      <td>0.088517</td>\n",
       "      <td>SHAP</td>\n",
       "      <td>Glass</td>\n",
       "    </tr>\n",
       "  </tbody>\n",
       "</table>\n",
       "</div>"
      ],
      "text/plain": [
       "    Lipschitz Estimates method Dataset\n",
       "38             0.009346   SHAP   Glass\n",
       "39             0.072976   SHAP   Glass\n",
       "40             0.034557   SHAP   Glass\n",
       "41             0.055203   SHAP   Glass\n",
       "42             0.088517   SHAP   Glass"
      ]
     },
     "metadata": {},
     "output_type": "display_data"
    }
   ],
   "source": [
    "iris_box_plot_df = box_plot_df.copy()\n",
    "iono_box_plot_df = pd.read_csv(generate_csv_path + \"iono_box_plot_df.csv\", index_col=0)\n",
    "glass_box_plot_df = pd.read_csv(generate_csv_path + \"glass_box_plot_df.csv\", index_col=0)\n",
    "\n",
    "box_plots = iris_box_plot_df.append(iono_box_plot_df)\n",
    "box_plots = box_plots.append(glass_box_plot_df)\n",
    "\n",
    "# display(box_plots.head())\n",
    "# display(box_plots.tail())"
   ]
  },
  {
   "cell_type": "code",
   "execution_count": 527,
   "metadata": {},
   "outputs": [
    {
     "data": {
      "image/png": "[encoded data removed]",
      "text/plain": [
       "<Figure size 864x432 with 1 Axes>"
      ]
     },
     "metadata": {
      "needs_background": "light"
     },
     "output_type": "display_data"
    }
   ],
   "source": [
    "plt.figure(figsize=(12, 6))\n",
    "box_plot = sns.boxplot(x=\"Dataset\", y=\"Lipschitz Estimates\", hue=\"method\", data=box_plots)\n",
    "box_plot.set(yscale=\"log\")\n",
    "plt.savefig(plots_path + 'experiments_figure2.png')"
   ]
  },
  {
   "cell_type": "code",
   "execution_count": null,
   "metadata": {},
   "outputs": [],
   "source": []
  },
  {
   "cell_type": "code",
   "execution_count": null,
   "metadata": {},
   "outputs": [],
   "source": []
  },
  {
   "cell_type": "code",
   "execution_count": null,
   "metadata": {},
   "outputs": [],
   "source": []
  },
  {
   "cell_type": "markdown",
   "metadata": {},
   "source": [
    "### Debuging Space"
   ]
  },
  {
   "cell_type": "code",
   "execution_count": null,
   "metadata": {},
   "outputs": [],
   "source": [
    "\"\"\" Use euclidean distance to define neighborhood points\n",
    "\"\"\"\n",
    "display(X.head())\n",
    "points = X.values\n",
    "epsilon = 0.75 * np.sqrt(len(points[0]))\n",
    "\n",
    "dist = (points[0] - points[1:])**2\n",
    "dist = np.sum(dist, axis=1)\n",
    "dist = np.sqrt(dist)\n",
    "print(dist)\n",
    "neighborhood_indices = []\n",
    "for index in range(0, len(dist)):\n",
    "    if dist[index] < epsilon:\n",
    "        neighborhood_indices.append(index)\n",
    "print(neighborhood_indices)"
   ]
  },
  {
   "cell_type": "code",
   "execution_count": 662,
   "metadata": {},
   "outputs": [],
   "source": [
    "# pixels = x_noise_neighborhood[0].reshape((28, 28))\n",
    "# plt.imshow(pixels, cmap='Greys')\n",
    "# plt.show()\n",
    "\n",
    "# pixels = nearby_points[0].reshape((28, 28))\n",
    "# plt.imshow(pixels, cmap='Greys')\n",
    "# plt.show()\n",
    "\n",
    "# pixels = nearby_points[1].reshape((28, 28))\n",
    "# plt.imshow(pixels, cmap='Greys')\n",
    "# plt.show()"
   ]
  },
  {
   "cell_type": "code",
   "execution_count": null,
   "metadata": {},
   "outputs": [],
   "source": [
    "# img = x_test[0]\n",
    "# img = np.array(img, dtype='float')\n",
    "\n",
    "# noisy_image = cv2.GaussianBlur(img, (5, 5), 0)\n",
    "# cv2.normalize(noisy_image, noisy_image, 0, 255, cv2.NORM_MINMAX, dtype=-1)\n",
    "# noisy_image = noisy_image.reshape((28, 28, 1))\n",
    "# noisy_image = noisy_image.astype(np.uint8)\n",
    "\n",
    "# pixels = img.reshape((28, 28))\n",
    "# plt.imshow(pixels)\n",
    "# plt.show()\n",
    "\n",
    "# # noisy_img_clipped = np.clip(noisy_image, 0, 255)\n",
    "# pixels = noisy_image.reshape((28, 28))\n",
    "# plt.imshow(pixels)\n",
    "# plt.show()"
   ]
  },
  {
   "cell_type": "code",
   "execution_count": null,
   "metadata": {},
   "outputs": [],
   "source": [
    "\"\"\" Visualising worst case deviation\n",
    "\"\"\"\n",
    "# # model_name = 'Saliency'\n",
    "# # model_name = 'Grad*input'\n",
    "# # model_name = 'e-LRP'\n",
    "# model_name = 'Occlusion'\n",
    "# # model_name = 'Deeplift'\n",
    "\n",
    "# data = cnn_lipschitz_7\n",
    "\n",
    "# images = dict()\n",
    "# image_instance = data['image_instance'][0]\n",
    "# images.update({'Original': image_instance})\n",
    "# deviation_image_instance = data['deviation_image_instances'][0][model_name]\n",
    "# images.update({'Deviation': deviation_image_instance})\n",
    "\n",
    "# image_instance_exp = data['image_instance_exp'][0]\n",
    "# value = image_instance_exp[model_name]\n",
    "# images.update({model_name: value})\n",
    "\n",
    "# deviation_image_instance_exp = data['deviation_image_instance_exp'][0]\n",
    "# value = deviation_image_instance_exp[model_name]\n",
    "# new_key = model_name + '_Deviation_Instance'\n",
    "# images.update({new_key: value})\n",
    "\n",
    "# print(images.keys())\n",
    "\n",
    "# n_cols = 2\n",
    "# n_rows = 2\n",
    "# fig, axes = plt.subplots(nrows=n_rows, ncols=n_cols, figsize=(3*n_cols, 3*n_rows))\n",
    "\n",
    "# ax = 0\n",
    "# for key, instance in images.items():\n",
    "#     row, col = divmod(ax, 2)\n",
    "#     if key == 'Original':\n",
    "#         plot(instance.reshape(28,28), cmap='viridis', axis=axes[row, col]).set_title(key)\n",
    "    \n",
    "#     elif key ==  'Deviation':\n",
    "#         pred = model.predict(instance.reshape(1, 28, 28, 1))\n",
    "#         print(pred)\n",
    "#         print()\n",
    "#         print()\n",
    "#         axis = plot(instance.reshape(28,28), cmap='viridis', axis=axes[row, col])\n",
    "#         pred_prb = str(round(pred[0][pred.argmax()], 3))\n",
    "#         title = key + ' (p=' + pred_prb +')'\n",
    "#         axis.set_title(title)\n",
    "\n",
    "#     elif key == model_name + '_Deviation_Instance':\n",
    "#         lc = cnn_lipschitz['lc_coefficents'][0][model_name]\n",
    "#         lc_key = 'lc_coefficent_' + model_name\n",
    "#         key = 'L = {}'.format(str(round(lc[lc_key], 2)))\n",
    "#         plot(instance.reshape(28,28), axis=axes[row, col]).set_title(key)\n",
    "    \n",
    "#     else:\n",
    "#         plot(instance.reshape(28,28), axis=axes[row, col])\n",
    "#     ax = ax + 1\n",
    "    \n",
    "# # for axes in axes.flat:\n",
    "# #     axes.set(xlabel='x-label', ylabel='y-label')\n",
    "\n",
    "# # # Hide x labels and tick labels for top plots and y ticks for right plots.\n",
    "# # for axes in axes.flat:\n",
    "# #     axes.label_outer()\n",
    "    \n",
    "# fig.text(0.4, 0.004, model_name , fontsize=20, fontstyle='italic')\n",
    "# fig_name = model_name + '_deviation_digit_' + str(digit)\n",
    "# fig.savefig(plots_path + fig_name)"
   ]
  },
  {
   "cell_type": "code",
   "execution_count": null,
   "metadata": {},
   "outputs": [],
   "source": [
    "# %%time\n",
    "\n",
    "# n_cols = 6\n",
    "# n_rows = 1\n",
    "# fig, axes = plt.subplots(nrows=n_rows, ncols=n_cols, figsize=(3*n_cols, 3*n_rows))\n",
    "# ax = 0\n",
    "\n",
    "# image_instance = cnn_lipschitz_7['image_instance'][0]\n",
    "# images = {'Original': image_instance}\n",
    "# image_instance_exp = cnn_lipschitz_7['image_instance_exp'][0]\n",
    "# images.update(image_instance_exp)\n",
    "\n",
    "# for key, instance in images.items():\n",
    "#     if ax == 0:\n",
    "#         plot(instance.reshape(28,28), cmap='viridis', axis=axes[ax]).set_title(key)\n",
    "#     else:\n",
    "#         plot(instance.reshape(28,28), axis=axes[ax]).set_title(key)\n",
    "#     ax = ax + 1\n",
    "    \n",
    "\n",
    "# fig, axes = plt.subplots(nrows=n_rows, ncols=n_cols, figsize=(3*n_cols, 3*n_rows))\n",
    "# ax = 0\n",
    "\n",
    "# deviation_image_instance = cnn_lipschitz_7['deviation_image_instance'][0]\n",
    "# images = {'Deviation': deviation_image_instance}\n",
    "# deviation_image_instance_exp = cnn_lipschitz_7['deviation_image_instance_exp'][0]\n",
    "# images.update(deviation_image_instance_exp)\n",
    "\n",
    "# for key, instance in images.items():\n",
    "#     if ax == 0:\n",
    "#         plot(instance.reshape(28,28), cmap='viridis', axis=axes[ax]).set_title(key)\n",
    "#     else:\n",
    "#         lc = cnn_lipschitz_7['lc_coefficents'][0][key]\n",
    "#         lc_key = 'lc_coefficent_' + key\n",
    "#         dv_key = 'L = {}'.format(str(round(lc[lc_key], 2)))\n",
    "#         plot(instance.reshape(28,28), axis=axes[ax]).set_title(dv_key)\n",
    "#     ax = ax + 1"
   ]
  }
 ],
 "metadata": {
  "kernelspec": {
   "display_name": "Python 3",
   "language": "python",
   "name": "python3"
  },
  "language_info": {
   "codemirror_mode": {
    "name": "ipython",
    "version": 3
   },
   "file_extension": ".py",
   "mimetype": "text/x-python",
   "name": "python",
   "nbconvert_exporter": "python",
   "pygments_lexer": "ipython3",
   "version": "3.6.6"
  }
 },
 "nbformat": 4,
 "nbformat_minor": 4
}

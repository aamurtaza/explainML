{
 "cells": [
  {
   "cell_type": "code",
   "execution_count": 2,
   "metadata": {},
   "outputs": [
    {
     "name": "stdout",
     "output_type": "stream",
     "text": [
      "Bismillahir Rahmanir Rahim\n"
     ]
    }
   ],
   "source": [
    "print(\"Bismillahir Rahmanir Rahim\")"
   ]
  },
  {
   "cell_type": "markdown",
   "metadata": {},
   "source": [
    "## Imports and Paths"
   ]
  },
  {
   "cell_type": "code",
   "execution_count": 5,
   "metadata": {},
   "outputs": [],
   "source": [
    "from __future__ import absolute_import\n",
    "from __future__ import division\n",
    "from __future__ import print_function\n",
    "\n",
    "import numpy as np\n",
    "import cv2\n",
    "# import matplotlib.pyplot as matplt\n",
    "from utils import plot, plt\n",
    "import pandas as pd\n",
    "from scipy.stats import mode\n",
    "\n",
    "import tempfile, sys, os\n",
    "sys.path.insert(0, os.path.abspath('..'))\n",
    "\n",
    "import keras\n",
    "from keras.datasets import mnist\n",
    "from keras.models import Sequential, Model\n",
    "from keras.layers import Dense, Dropout, Flatten, Activation\n",
    "from keras.layers import Conv2D, MaxPooling2D\n",
    "from keras import backend as K\n",
    "\n",
    "# Import DeepExplain\n",
    "from deepexplain.tensorflow import DeepExplain"
   ]
  },
  {
   "cell_type": "markdown",
   "metadata": {},
   "source": [
    "# 1. Deep Learning Model"
   ]
  },
  {
   "cell_type": "markdown",
   "metadata": {},
   "source": [
    "## Load and preprocess data\n",
    "\n",
    "Train/test split = 0.80/0.20"
   ]
  },
  {
   "cell_type": "code",
   "execution_count": 6,
   "metadata": {},
   "outputs": [
    {
     "name": "stdout",
     "output_type": "stream",
     "text": [
      "x_train shape: (60000, 28, 28, 1)\n",
      "60000 train samples\n",
      "10000 test samples\n"
     ]
    }
   ],
   "source": [
    "# input image dimensions\n",
    "img_rows, img_cols = 28, 28\n",
    "\n",
    "# the data, shuffled and split between train and test sets\n",
    "(x_train, y_train), (x_test, y_test) = mnist.load_data()\n",
    "\n",
    "if K.image_data_format() == 'channels_first':\n",
    "    x_train = x_train.reshape(x_train.shape[0], 1, img_rows, img_cols)\n",
    "    x_test = x_test.reshape(x_test.shape[0], 1, img_rows, img_cols)\n",
    "    input_shape = (1, img_rows, img_cols)\n",
    "else:\n",
    "    x_train = x_train.reshape(x_train.shape[0], img_rows, img_cols, 1)\n",
    "    x_test = x_test.reshape(x_test.shape[0], img_rows, img_cols, 1)\n",
    "    input_shape = (img_rows, img_cols, 1)\n",
    "\n",
    "x_train = x_train.astype('float32')\n",
    "x_test = x_test.astype('float32')\n",
    "x_train /= 255\n",
    "x_test /= 255\n",
    "x_train = (x_train - 0.5) * 2\n",
    "x_test = (x_test - 0.5) * 2\n",
    "print('x_train shape:', x_train.shape)\n",
    "print(x_train.shape[0], 'train samples')\n",
    "print(x_test.shape[0], 'test samples')"
   ]
  },
  {
   "cell_type": "markdown",
   "metadata": {},
   "source": [
    "## Train and evaluate deep learning model"
   ]
  },
  {
   "cell_type": "code",
   "execution_count": 7,
   "metadata": {},
   "outputs": [
    {
     "name": "stdout",
     "output_type": "stream",
     "text": [
      "WARNING:tensorflow:From /Users/adnanbajwa/.local/share/virtualenvs/thesisproject-kKhBnr9a/lib/python3.6/site-packages/keras/backend/tensorflow_backend.py:66: The name tf.get_default_graph is deprecated. Please use tf.compat.v1.get_default_graph instead.\n",
      "\n",
      "WARNING:tensorflow:From /Users/adnanbajwa/.local/share/virtualenvs/thesisproject-kKhBnr9a/lib/python3.6/site-packages/keras/backend/tensorflow_backend.py:541: The name tf.placeholder is deprecated. Please use tf.compat.v1.placeholder instead.\n",
      "\n",
      "WARNING:tensorflow:From /Users/adnanbajwa/.local/share/virtualenvs/thesisproject-kKhBnr9a/lib/python3.6/site-packages/keras/backend/tensorflow_backend.py:4432: The name tf.random_uniform is deprecated. Please use tf.random.uniform instead.\n",
      "\n",
      "WARNING:tensorflow:From /Users/adnanbajwa/.local/share/virtualenvs/thesisproject-kKhBnr9a/lib/python3.6/site-packages/keras/backend/tensorflow_backend.py:4267: The name tf.nn.max_pool is deprecated. Please use tf.nn.max_pool2d instead.\n",
      "\n",
      "WARNING:tensorflow:From /Users/adnanbajwa/.local/share/virtualenvs/thesisproject-kKhBnr9a/lib/python3.6/site-packages/keras/backend/tensorflow_backend.py:148: The name tf.placeholder_with_default is deprecated. Please use tf.compat.v1.placeholder_with_default instead.\n",
      "\n",
      "WARNING:tensorflow:From /Users/adnanbajwa/.local/share/virtualenvs/thesisproject-kKhBnr9a/lib/python3.6/site-packages/keras/backend/tensorflow_backend.py:3733: calling dropout (from tensorflow.python.ops.nn_ops) with keep_prob is deprecated and will be removed in a future version.\n",
      "Instructions for updating:\n",
      "Please use `rate` instead of `keep_prob`. Rate should be set to `rate = 1 - keep_prob`.\n",
      "WARNING:tensorflow:From /Users/adnanbajwa/.local/share/virtualenvs/thesisproject-kKhBnr9a/lib/python3.6/site-packages/keras/optimizers.py:793: The name tf.train.Optimizer is deprecated. Please use tf.compat.v1.train.Optimizer instead.\n",
      "\n",
      "WARNING:tensorflow:From /Users/adnanbajwa/.local/share/virtualenvs/thesisproject-kKhBnr9a/lib/python3.6/site-packages/tensorflow/python/ops/math_grad.py:1250: add_dispatch_support.<locals>.wrapper (from tensorflow.python.ops.array_ops) is deprecated and will be removed in a future version.\n",
      "Instructions for updating:\n",
      "Use tf.where in 2.0, which has the same broadcast rule as np.where\n",
      "Train on 60000 samples, validate on 10000 samples\n",
      "Epoch 1/1\n",
      "60000/60000 [==============================] - 55s 912us/step - loss: 0.2296 - acc: 0.9294 - val_loss: 0.0563 - val_acc: 0.9816\n",
      "Test loss: 0.05632604828393087\n",
      "Test accuracy: 0.9816\n"
     ]
    }
   ],
   "source": [
    "batch_size = 128\n",
    "num_classes = 10\n",
    "epochs = 1\n",
    "\n",
    "# convert class vectors to binary class matrices\n",
    "y_train = keras.utils.to_categorical(y_train, num_classes)\n",
    "y_test = keras.utils.to_categorical(y_test, num_classes)\n",
    "\n",
    "\n",
    "model = Sequential()\n",
    "model.add(Conv2D(32, kernel_size=(3, 3),\n",
    "                 activation='relu',\n",
    "                 input_shape=input_shape))\n",
    "model.add(Conv2D(64, (3, 3), activation='relu'))\n",
    "model.add(MaxPooling2D(pool_size=(2, 2)))\n",
    "model.add(Dropout(0.25))\n",
    "model.add(Flatten())\n",
    "model.add(Dense(128, activation='relu'))\n",
    "model.add(Dropout(0.5))\n",
    "model.add(Dense(num_classes))\n",
    "model.add(Activation('softmax')) \n",
    "# ^ IMPORTANT: notice that the final softmax must be in its own layer \n",
    "# if we want to target pre-softmax units\n",
    "\n",
    "model.compile(loss=keras.losses.categorical_crossentropy,\n",
    "              optimizer=keras.optimizers.Adadelta(),\n",
    "              metrics=['accuracy'])\n",
    "\n",
    "model.fit(x_train, y_train,\n",
    "          batch_size=batch_size,\n",
    "          epochs=epochs,\n",
    "          verbose=1,\n",
    "          validation_data=(x_test, y_test))\n",
    "score = model.evaluate(x_test, y_test, verbose=0)\n",
    "print('Test loss:', score[0])\n",
    "print('Test accuracy:', score[1])"
   ]
  },
  {
   "cell_type": "markdown",
   "metadata": {},
   "source": [
    "## Sampling using guassian Nnoise"
   ]
  },
  {
   "cell_type": "code",
   "execution_count": 73,
   "metadata": {},
   "outputs": [
    {
     "name": "stdout",
     "output_type": "stream",
     "text": [
      "math.exp(-45.17) :  2.4150062132629406e-20\n",
      "math.exp(100.12) :  3.0308436140742566e+43\n"
     ]
    },
    {
     "data": {
      "text/plain": [
       "0.099998"
      ]
     },
     "execution_count": 73,
     "metadata": {},
     "output_type": "execute_result"
    }
   ],
   "source": [
    "import math   # This will import math module\n",
    "\n",
    "print(\"math.exp(-45.17) : \", math.exp(-45.17))\n",
    "print(\"math.exp(100.12) : \", math.exp(100.12))\n",
    "\n",
    "value = str('9.9998e-02')\n",
    "value2 = value.replace(',', '.')\n",
    "float(value2)"
   ]
  },
  {
   "cell_type": "code",
   "execution_count": 90,
   "metadata": {},
   "outputs": [],
   "source": [
    "# https://pypi.org/project/opencv-python/\n",
    "# https://opencv.org/\n",
    "import cv2"
   ]
  },
  {
   "cell_type": "code",
   "execution_count": 91,
   "metadata": {},
   "outputs": [
    {
     "data": {
      "text/plain": [
       "(28, 28, 1)"
      ]
     },
     "execution_count": 91,
     "metadata": {},
     "output_type": "execute_result"
    }
   ],
   "source": [
    "x_test[0] # digit 7\n",
    "x_test[0].shape"
   ]
  },
  {
   "cell_type": "code",
   "execution_count": 188,
   "metadata": {},
   "outputs": [
    {
     "name": "stdout",
     "output_type": "stream",
     "text": [
      "(28, 28)\n"
     ]
    }
   ],
   "source": [
    "img = x_test[0]\n",
    "img = np.array(img, dtype='float')\n",
    "\n",
    "noisy_image = cv2.GaussianBlur(img, (5, 5), 1.99998, 1.99998)\n",
    "print(noisy_image.shape)\n",
    "\n",
    "# mean = 0\n",
    "# # var = 0.0099998\n",
    "# # sigma = var ** 0.1\n",
    "# sigma = 0.019998\n",
    "# print(sigma)\n",
    "# gaussian = np.random.normal(mean, sigma, (28, 28)) #  np.zeros((224, 224), np.float32)\n",
    "\n",
    "# noisy_image = np.zeros(img.shape, np.float32)\n",
    "\n",
    "# if len(img.shape) == 2:\n",
    "#     noisy_image = img + gaussian\n",
    "# else:\n",
    "#     noisy_image[:, :, 0] = img[:, :, 0] + gaussian\n",
    "# #     noisy_image[:, :, 1] = img[:, :, 1] + gaussian\n",
    "# #     noisy_image[:, :, 2] = img[:, :, 2] + gaussian\n",
    "\n"
   ]
  },
  {
   "cell_type": "code",
   "execution_count": 187,
   "metadata": {},
   "outputs": [
    {
     "data": {
      "image/png": "[encoded data removed]",
      "text/plain": [
       "<Figure size 432x288 with 1 Axes>"
      ]
     },
     "metadata": {
      "needs_background": "light"
     },
     "output_type": "display_data"
    },
    {
     "data": {
      "image/png": "[encoded data removed]",
      "text/plain": [
       "<Figure size 432x288 with 1 Axes>"
      ]
     },
     "metadata": {
      "needs_background": "light"
     },
     "output_type": "display_data"
    }
   ],
   "source": [
    "cv2.normalize(noisy_image, noisy_image, 0, 255, cv2.NORM_MINMAX, dtype=-1)\n",
    "noisy_image = noisy_image.reshape((28, 28, 1))\n",
    "noisy_image = noisy_image.astype(np.uint8)\n",
    "noisy_image1 = noisy_image\n",
    "noisy_image2 = noisy_image\n",
    "noisy_image3 = noisy_image\n",
    "noisy_image4 = noisy_image\n",
    "\n",
    "\n",
    "pixels = img.reshape((28, 28))\n",
    "plt.imshow(pixels) # cmap='gray', cmap=\"Greys\"\n",
    "plt.show()\n",
    "\n",
    "# noisy_img_clipped = np.clip(noisy_image, 0, 255)\n",
    "pixels = noisy_image.reshape((28, 28))\n",
    "plt.imshow(pixels)\n",
    "plt.show()"
   ]
  },
  {
   "cell_type": "code",
   "execution_count": 158,
   "metadata": {},
   "outputs": [],
   "source": [
    "# matplt.imshow(np.vstack((np.hstack((img, noisy_image)))))\n",
    "# matplt.show()\n",
    "\n",
    "# cv2.imshow(\"img\", img)\n",
    "# cv2.imshow(\"gaussian\", gaussian)\n",
    "# cv2.imshow(\"noisy\", noisy_image)\n",
    "\n",
    "# cv2.waitKey(0)"
   ]
  },
  {
   "cell_type": "code",
   "execution_count": 159,
   "metadata": {},
   "outputs": [
    {
     "data": {
      "text/plain": [
       "numpy.ndarray"
      ]
     },
     "execution_count": 159,
     "metadata": {},
     "output_type": "execute_result"
    }
   ],
   "source": [
    "test = np.array([img, noisy_image, noisy_image1, noisy_image2, noisy_image3, noisy_image4])\n",
    "label = y_test[0]\n",
    "yy = np.array([label, label, label, label, label, label])\n",
    "type(test[0])"
   ]
  },
  {
   "cell_type": "code",
   "execution_count": null,
   "metadata": {},
   "outputs": [],
   "source": []
  },
  {
   "cell_type": "markdown",
   "metadata": {},
   "source": [
    "# 2. Explanation Models"
   ]
  },
  {
   "cell_type": "markdown",
   "metadata": {},
   "source": [
    "## Interpreting models using DeepExplain"
   ]
  },
  {
   "cell_type": "code",
   "execution_count": 8,
   "metadata": {},
   "outputs": [],
   "source": [
    "# %%time\n",
    "# with DeepExplain(session=K.get_session()) as de:  # <-- init DeepExplain context\n",
    "#     # Need to reconstruct the graph in DeepExplain context, using the same weights.\n",
    "#     # With Keras this is very easy:\n",
    "#     # 1. Get the input tensor to the original model\n",
    "#     input_tensor = model.layers[0].input\n",
    "    \n",
    "#     # 2. We now target the output of the last dense layer (pre-softmax)\n",
    "#     # To do so, create a new model sharing the same layers untill the last dense (index -2)\n",
    "#     fModel = Model(inputs=input_tensor, outputs = model.layers[-2].output)\n",
    "#     target_tensor = fModel(input_tensor)\n",
    "    \n",
    "# #     xs = x_test[0:6]\n",
    "# #     ys = y_test[0:6]\n",
    "    \n",
    "#     xs = test\n",
    "#     ys = yy\n",
    "    \n",
    "#     attributions_gradin = de.explain('grad*input', target_tensor, input_tensor, xs, ys=ys)\n",
    "#     attributions_sal   = de.explain('saliency', target_tensor, input_tensor, xs, ys=ys)\n",
    "#     attributions_ig    = de.explain('intgrad', target_tensor, input_tensor, xs, ys=ys)\n",
    "#     attributions_dl    = de.explain('deeplift', target_tensor, input_tensor, xs, ys=ys)\n",
    "#     attributions_elrp  = de.explain('elrp', target_tensor, input_tensor, xs, ys=ys)\n",
    "#     attributions_occ   = de.explain('occlusion', target_tensor, input_tensor, xs, ys=ys)\n",
    "    \n",
    "#     # Compare Gradient * Input with approximate Shapley Values\n",
    "#     # Note1: Shapley Value sampling with 100 samples per feature (78400 runs) takes a couple of minutes on a GPU.\n",
    "#     # Note2: 100 samples are not enough for convergence, the result might be affected by sampling variance\n",
    "# #     attributions_sv     = de.explain('shapley_sampling', target_tensor, input_tensor, xs, ys=ys, samples=100)"
   ]
  },
  {
   "cell_type": "code",
   "execution_count": 9,
   "metadata": {},
   "outputs": [],
   "source": [
    "# print(type(attributions_gradin))\n",
    "# print(attributions_gradin.shape)\n",
    "\n",
    "# print(type(x_train))\n",
    "# print(x_train[0].shape)"
   ]
  },
  {
   "cell_type": "code",
   "execution_count": 10,
   "metadata": {},
   "outputs": [],
   "source": [
    "# %%time\n",
    "# from utils import plot, plt\n",
    "# %matplotlib inline\n",
    "\n",
    "# n_cols = 6\n",
    "# n_rows = int(len(attributions_gradin) / 2)\n",
    "# fig, axes = plt.subplots(nrows=n_rows, ncols=n_cols, figsize=(3*n_cols, 3*n_rows))\n",
    "\n",
    "# for i, (a1, a2) in enumerate(zip(attributions_gradin, attributions_sal)):\n",
    "#     row, col = divmod(i, 2)\n",
    "#     plot(xs[i].reshape(28, 28), cmap='Greys', axis=axes[row, col*3]).set_title('Original')\n",
    "# #     plot(xs[i].reshape(28, 28), axis=axes[row, col*3]).set_title('Original')\n",
    "#     plot(a1.reshape(28,28), xi = xs[i], axis=axes[row,col*3+1]).set_title('Grad*Input')    \n",
    "#     plot(a2.reshape(28,28), xi = xs[i], axis=axes[row,col*3+2]).set_title('saliency')\n",
    "# #     plot(a2.reshape(28,28), xi = xs[i], axis=axes[row,col*3+2]).set_title('Shapley Values')"
   ]
  },
  {
   "cell_type": "code",
   "execution_count": null,
   "metadata": {},
   "outputs": [],
   "source": []
  },
  {
   "cell_type": "markdown",
   "metadata": {},
   "source": [
    "## Batch processing\n",
    "In this example, we generate explanations for the entire testset (10000 images) using the fast Gradient*Input method.\n",
    "`DeepExplain.explain()` accepts the `batch_size` parameter if the data to process does not fit in memory."
   ]
  },
  {
   "cell_type": "code",
   "execution_count": 13,
   "metadata": {},
   "outputs": [],
   "source": [
    "# new_x_test = x_test\n",
    "# new_y_test = y_test\n",
    "\n",
    "# ## Find similar digit images to use as neighbourhood\n",
    "# indices = []\n",
    "# digit = 3\n",
    "# index = 0\n",
    "# for label_array in new_y_test:\n",
    "#     label = np.argmax(label_array)\n",
    "#     if label == digit:\n",
    "#         indices.append(index)\n",
    "#     index = index +1"
   ]
  },
  {
   "cell_type": "code",
   "execution_count": 14,
   "metadata": {},
   "outputs": [],
   "source": [
    "# dst = norm(new_x_test[0], new_x_test[1:])\n",
    "# x0 = new_x_test[0]\n",
    "# Xs = new_x_test[1]\n",
    "# df = np.asarray(x0 - Xs)\n",
    "# dst = np.sqrt(np.sum(df**2))\n",
    "# print(dst)"
   ]
  },
  {
   "cell_type": "markdown",
   "metadata": {},
   "source": [
    "### Define neighbohood "
   ]
  },
  {
   "cell_type": "code",
   "execution_count": 17,
   "metadata": {},
   "outputs": [],
   "source": [
    "def neighbourhood_images(x_test, y_test, digit):\n",
    "    ## Find similar digit images to use as neighbourhood\n",
    "    indices = []\n",
    "    index = 0\n",
    "    for label_array in y_test:\n",
    "        label = np.argmax(label_array)\n",
    "        if label == digit:\n",
    "            indices.append(index)\n",
    "        index = index +1\n",
    "    x_test_neighborhood = x_test[indices]\n",
    "    y_test_neighborhood = y_test[indices]\n",
    "    return x_test_neighborhood, y_test_neighborhood"
   ]
  },
  {
   "cell_type": "code",
   "execution_count": 27,
   "metadata": {},
   "outputs": [
    {
     "name": "stdout",
     "output_type": "stream",
     "text": [
      "[0. 0. 0. 0. 0. 0. 0. 1. 0. 0.]\n"
     ]
    }
   ],
   "source": [
    "digit = 7\n",
    "anchor_index = 0\n",
    "x_test_neighborhood, y_test_neighborhood = neighbourhood_images(x_test, y_test, digit)\n",
    "print(y_test_neighborhood[0])"
   ]
  },
  {
   "cell_type": "markdown",
   "metadata": {},
   "source": [
    "### Interpreting models using DeepExplain"
   ]
  },
  {
   "cell_type": "code",
   "execution_count": 28,
   "metadata": {},
   "outputs": [
    {
     "name": "stdout",
     "output_type": "stream",
     "text": [
      "Digit  7\n",
      "Done\n",
      "CPU times: user 12min 57s, sys: 2min 4s, total: 15min 1s\n",
      "Wall time: 2min 33s\n"
     ]
    }
   ],
   "source": [
    "%%time\n",
    "with DeepExplain(session=K.get_session()) as de:  # <-- init DeepExplain context\n",
    "    # Need to reconstruct the graph in DeepExplain context, using the same weights.\n",
    "    # With Keras this is very easy:\n",
    "    # 1. Get the input tensor to the original model\n",
    "    input_tensor = model.layers[0].input\n",
    "    \n",
    "    # 2. We now target the output of the last dense layer (pre-softmax)\n",
    "    # To do so, create a new model sharing the same layers untill the last dense (index -2)\n",
    "    fModel = Model(inputs=input_tensor, outputs = model.layers[-2].output)\n",
    "    target_tensor = fModel(input_tensor)\n",
    "    \n",
    "    xs = x_test_neighborhood\n",
    "    ys = y_test_neighborhood\n",
    "    \n",
    "    attributions_sal = de.explain('saliency', target_tensor, input_tensor, xs, ys=ys, batch_size=128)\n",
    "    attributions_gradin = de.explain('grad*input', target_tensor, input_tensor, xs, ys=ys, batch_size=128)\n",
    "    attributions_elrp = de.explain('elrp', target_tensor, input_tensor, xs, ys=ys, batch_size=128)\n",
    "    attributions_occ   = de.explain('occlusion', target_tensor, input_tensor, xs, ys=ys, batch_size=128)\n",
    "    attributions_dl    = de.explain('deeplift', target_tensor, input_tensor, xs, ys=ys, batch_size=128)\n",
    "    print('Digit ', digit)\n",
    "    print (\"Done\")"
   ]
  },
  {
   "cell_type": "code",
   "execution_count": 29,
   "metadata": {},
   "outputs": [
    {
     "data": {
      "text/plain": [
       "'\\n\\nDigit 3\\nDone\\nCPU times: user 12min 43s, sys: 2min 25s, total: 15min 9s\\nWall time: 2min 43s\\n\\nDigit  7\\nDone\\nCPU times: user 13min 30s, sys: 2min 31s, total: 16min 2s\\nWall time: 2min 50s\\n\\n'"
      ]
     },
     "execution_count": 29,
     "metadata": {},
     "output_type": "execute_result"
    }
   ],
   "source": [
    "'''\n",
    "\n",
    "Digit 3\n",
    "Done\n",
    "CPU times: user 12min 43s, sys: 2min 25s, total: 15min 9s\n",
    "Wall time: 2min 43s\n",
    "\n",
    "Digit  7\n",
    "Done\n",
    "CPU times: user 13min 30s, sys: 2min 31s, total: 16min 2s\n",
    "Wall time: 2min 50s\n",
    "\n",
    "'''"
   ]
  },
  {
   "cell_type": "markdown",
   "metadata": {},
   "source": [
    "### Measuring stability using lipschitz estimation"
   ]
  },
  {
   "cell_type": "code",
   "execution_count": 30,
   "metadata": {},
   "outputs": [],
   "source": [
    "def euclidean_distances(x0, Xs):\n",
    "    distances = []\n",
    "    for image in Xs:\n",
    "        df = np.asarray(x0 - image)  # the difference between the images\n",
    "        dst = np.sqrt(np.sum(df**2))\n",
    "        distances.append(dst)\n",
    "    return distances"
   ]
  },
  {
   "cell_type": "code",
   "execution_count": 31,
   "metadata": {},
   "outputs": [],
   "source": [
    "def lipschitz_estimation(anchor_index, x_test_neighborhood_exp):\n",
    "    \n",
    "    neighborhood_size = len(x_test_neighborhood)\n",
    "    filter_indices = np.arange(0, neighborhood_size)\n",
    "    filter_indices = np.delete(filter_indices, anchor_index)\n",
    "\n",
    "    anchorX = x_test_neighborhood[anchor_index]\n",
    "    anchorX_exp = x_test_neighborhood_exp[anchor_index]\n",
    "    \n",
    "    nearby_points = x_test_neighborhood[filter_indices]\n",
    "    nearby_points_exp = x_test_neighborhood_exp[filter_indices]\n",
    "\n",
    "    anchorX_norm2 = euclidean_distances(anchorX, nearby_points)\n",
    "    anchorX_exp_norm2 = euclidean_distances(anchorX_exp, nearby_points_exp)\n",
    "\n",
    "    anchorX_avg_norm2 = np.divide(anchorX_exp_norm2, anchorX_norm2)\n",
    "    anchorX_LC_argmax = np.argmax(anchorX_avg_norm2)\n",
    "    \n",
    "    return anchorX_LC_argmax, anchorX_avg_norm2"
   ]
  },
  {
   "cell_type": "code",
   "execution_count": 32,
   "metadata": {},
   "outputs": [],
   "source": [
    "col_lipschitz = ['digit','image_instance','anchor_index','neighborhood_size',\n",
    "                 'image_instance_exp', 'deviation_indices', 'lc_coefficents',\n",
    "                 'deviation_image_instance', 'deviation_image_instance_exp']"
   ]
  },
  {
   "cell_type": "code",
   "execution_count": 33,
   "metadata": {},
   "outputs": [],
   "source": [
    "def lipschitz_estimates_to_dataframe(explanations):\n",
    "    \n",
    "    digits = []\n",
    "    image_instance  = []\n",
    "    anchor_indices  = []\n",
    "    neighborhood_size = []\n",
    "    image_instance_exp = dict()\n",
    "    deviation_indices = dict()\n",
    "    lc_coefficents = dict()\n",
    "    deviation_image_instance  = []\n",
    "    deviation_image_instance_exp = dict()\n",
    "\n",
    "    for key, arrtibutions in explanations.items():\n",
    "        # calculate lipschitz estimation\n",
    "        anchorX_LC_argmax, anchorX_avg_norm2 = lipschitz_estimation(anchor_index, arrtibutions)\n",
    "\n",
    "        digits.append(digit)\n",
    "        image_instance.append(x_test_neighborhood[anchor_index])\n",
    "        anchor_indices.append(anchor_index)\n",
    "        neighborhood_size.append(len(x_test_neighborhood)-1)\n",
    "\n",
    "        # add explanation of anchor_image by key=model_name\n",
    "        image_instance_exp[key] = arrtibutions[anchor_index]\n",
    "        \n",
    "        # add worst deviation_index using it gives the lipschitz estimate   \n",
    "        key_deviation_index = 'deviation_index'\n",
    "        deviation_indices[key] = {key_deviation_index: anchorX_LC_argmax}\n",
    "        argmax_lc_coefficent = anchorX_avg_norm2[anchorX_LC_argmax]\n",
    "        \n",
    "        # add lipschitz estimate value by key=model_name\n",
    "        key_lc_coefficent = 'lc_coefficent_' + key\n",
    "        lc_coefficents[key] = {key_lc_coefficent: argmax_lc_coefficent}\n",
    "\n",
    "    devi_index = []\n",
    "    for key, value in deviation_indices.items():\n",
    "        devi_index.append(value['deviation_index'])\n",
    "    dv_mode = mode(devi_index)\n",
    "    dv_index = dv_mode[0][0]\n",
    "    print('Most frequently deviation index in lipschitz calculations', dv_index)\n",
    "    \n",
    "    for key, arrtibution in explanations.items():\n",
    "        \n",
    "        # add deviation image instance\n",
    "        deviation_image_instance.append(x_test_neighborhood[dv_index])\n",
    "        \n",
    "        # add deviation explanation correspond to anchor_image by key=model_name\n",
    "        deviation_image_instance_exp[key] = arrtibution[dv_index]\n",
    "        \n",
    "    zippedList = list(zip(digits, image_instance, anchor_indices, neighborhood_size,\n",
    "                          [image_instance_exp], [deviation_indices], [lc_coefficents],\n",
    "                          deviation_image_instance, [deviation_image_instance_exp]))\n",
    "        \n",
    "    df = pd.DataFrame(zippedList, columns=col_lipschitz)\n",
    "    return df"
   ]
  },
  {
   "cell_type": "code",
   "execution_count": 34,
   "metadata": {},
   "outputs": [],
   "source": [
    "exp_models = ['Saliency', 'Grad*input', 'e-LRP', 'Occlusion', 'Deeplift']\n",
    "exp_attributions = [attributions_sal, attributions_gradin, attributions_elrp, attributions_occ, attributions_dl]\n",
    "explanations = dict(zip(exp_models, exp_attributions))"
   ]
  },
  {
   "cell_type": "code",
   "execution_count": 35,
   "metadata": {},
   "outputs": [
    {
     "name": "stdout",
     "output_type": "stream",
     "text": [
      "Most frequently deviation index in lipschitz calculations 489\n"
     ]
    }
   ],
   "source": [
    "# cnn_lipschitz = lipschitz_estimates_to_dataframe(explanations)\n",
    "cnn_lipschitz_7 = lipschitz_estimates_to_dataframe(explanations)"
   ]
  },
  {
   "cell_type": "code",
   "execution_count": 36,
   "metadata": {},
   "outputs": [
    {
     "data": {
      "text/html": [
       "<div>\n",
       "<style scoped>\n",
       "    .dataframe tbody tr th:only-of-type {\n",
       "        vertical-align: middle;\n",
       "    }\n",
       "\n",
       "    .dataframe tbody tr th {\n",
       "        vertical-align: top;\n",
       "    }\n",
       "\n",
       "    .dataframe thead th {\n",
       "        text-align: right;\n",
       "    }\n",
       "</style>\n",
       "<table border=\"1\" class=\"dataframe\">\n",
       "  <thead>\n",
       "    <tr style=\"text-align: right;\">\n",
       "      <th></th>\n",
       "      <th>digit</th>\n",
       "      <th>image_instance</th>\n",
       "      <th>anchor_index</th>\n",
       "      <th>neighborhood_size</th>\n",
       "      <th>image_instance_exp</th>\n",
       "      <th>deviation_indices</th>\n",
       "      <th>lc_coefficents</th>\n",
       "      <th>deviation_image_instance</th>\n",
       "      <th>deviation_image_instance_exp</th>\n",
       "    </tr>\n",
       "  </thead>\n",
       "  <tbody>\n",
       "    <tr>\n",
       "      <td>0</td>\n",
       "      <td>3</td>\n",
       "      <td>[[[-1.0], [-1.0], [-1.0], [-1.0], [-1.0], [-1....</td>\n",
       "      <td>0</td>\n",
       "      <td>1009</td>\n",
       "      <td>{'Saliency': [[[0.00112191], [0.00242644], [0....</td>\n",
       "      <td>{'Saliency': {'deviation_index': 63}, 'Grad*in...</td>\n",
       "      <td>{'Saliency': {'lc_coefficent_Saliency': 0.1076...</td>\n",
       "      <td>[[[-1.0], [-1.0], [-1.0], [-1.0], [-1.0], [-1....</td>\n",
       "      <td>{'Saliency': [[[0.00038927], [0.00105589], [0....</td>\n",
       "    </tr>\n",
       "  </tbody>\n",
       "</table>\n",
       "</div>"
      ],
      "text/plain": [
       "   digit                                     image_instance  anchor_index  \\\n",
       "0      3  [[[-1.0], [-1.0], [-1.0], [-1.0], [-1.0], [-1....             0   \n",
       "\n",
       "   neighborhood_size                                 image_instance_exp  \\\n",
       "0               1009  {'Saliency': [[[0.00112191], [0.00242644], [0....   \n",
       "\n",
       "                                   deviation_indices  \\\n",
       "0  {'Saliency': {'deviation_index': 63}, 'Grad*in...   \n",
       "\n",
       "                                      lc_coefficents  \\\n",
       "0  {'Saliency': {'lc_coefficent_Saliency': 0.1076...   \n",
       "\n",
       "                            deviation_image_instance  \\\n",
       "0  [[[-1.0], [-1.0], [-1.0], [-1.0], [-1.0], [-1....   \n",
       "\n",
       "                        deviation_image_instance_exp  \n",
       "0  {'Saliency': [[[0.00038927], [0.00105589], [0....  "
      ]
     },
     "metadata": {},
     "output_type": "display_data"
    },
    {
     "data": {
      "text/html": [
       "<div>\n",
       "<style scoped>\n",
       "    .dataframe tbody tr th:only-of-type {\n",
       "        vertical-align: middle;\n",
       "    }\n",
       "\n",
       "    .dataframe tbody tr th {\n",
       "        vertical-align: top;\n",
       "    }\n",
       "\n",
       "    .dataframe thead th {\n",
       "        text-align: right;\n",
       "    }\n",
       "</style>\n",
       "<table border=\"1\" class=\"dataframe\">\n",
       "  <thead>\n",
       "    <tr style=\"text-align: right;\">\n",
       "      <th></th>\n",
       "      <th>digit</th>\n",
       "      <th>image_instance</th>\n",
       "      <th>anchor_index</th>\n",
       "      <th>neighborhood_size</th>\n",
       "      <th>image_instance_exp</th>\n",
       "      <th>deviation_indices</th>\n",
       "      <th>lc_coefficents</th>\n",
       "      <th>deviation_image_instance</th>\n",
       "      <th>deviation_image_instance_exp</th>\n",
       "    </tr>\n",
       "  </thead>\n",
       "  <tbody>\n",
       "    <tr>\n",
       "      <td>0</td>\n",
       "      <td>7</td>\n",
       "      <td>[[[-1.0], [-1.0], [-1.0], [-1.0], [-1.0], [-1....</td>\n",
       "      <td>0</td>\n",
       "      <td>1027</td>\n",
       "      <td>{'Saliency': [[[0.00074376], [0.00377791], [0....</td>\n",
       "      <td>{'Saliency': {'deviation_index': 489}, 'Grad*i...</td>\n",
       "      <td>{'Saliency': {'lc_coefficent_Saliency': 0.1492...</td>\n",
       "      <td>[[[-1.0], [-1.0], [-1.0], [-1.0], [-1.0], [-1....</td>\n",
       "      <td>{'Saliency': [[[0.00077851], [0.00341605], [0....</td>\n",
       "    </tr>\n",
       "  </tbody>\n",
       "</table>\n",
       "</div>"
      ],
      "text/plain": [
       "   digit                                     image_instance  anchor_index  \\\n",
       "0      7  [[[-1.0], [-1.0], [-1.0], [-1.0], [-1.0], [-1....             0   \n",
       "\n",
       "   neighborhood_size                                 image_instance_exp  \\\n",
       "0               1027  {'Saliency': [[[0.00074376], [0.00377791], [0....   \n",
       "\n",
       "                                   deviation_indices  \\\n",
       "0  {'Saliency': {'deviation_index': 489}, 'Grad*i...   \n",
       "\n",
       "                                      lc_coefficents  \\\n",
       "0  {'Saliency': {'lc_coefficent_Saliency': 0.1492...   \n",
       "\n",
       "                            deviation_image_instance  \\\n",
       "0  [[[-1.0], [-1.0], [-1.0], [-1.0], [-1.0], [-1....   \n",
       "\n",
       "                        deviation_image_instance_exp  \n",
       "0  {'Saliency': [[[0.00077851], [0.00341605], [0....  "
      ]
     },
     "metadata": {},
     "output_type": "display_data"
    }
   ],
   "source": [
    "display(cnn_lipschitz.head())\n",
    "display(cnn_lipschitz_7.head())"
   ]
  },
  {
   "cell_type": "code",
   "execution_count": 847,
   "metadata": {},
   "outputs": [],
   "source": [
    "# print(cnn_lipschitz['image_instance_exp'][0].keys())"
   ]
  },
  {
   "cell_type": "code",
   "execution_count": 848,
   "metadata": {},
   "outputs": [],
   "source": [
    "# print(deviation_indices['saliency']['deviation_index'])\n",
    "# print(lc_coefficents['saliency']['lc_coefficent_saliency'])"
   ]
  },
  {
   "cell_type": "code",
   "execution_count": 849,
   "metadata": {},
   "outputs": [],
   "source": [
    "# len(cnn_lipschitz['image_instance_exp'][0].keys())"
   ]
  },
  {
   "cell_type": "code",
   "execution_count": 850,
   "metadata": {},
   "outputs": [],
   "source": [
    "# image_instance_exp = cnn_lipschitz_7['image_instance_exp'][0]\n",
    "# image_instance_exp.get('Saliency')"
   ]
  },
  {
   "cell_type": "code",
   "execution_count": 834,
   "metadata": {},
   "outputs": [],
   "source": [
    "# deviation_image_instance_exp = cnn_lipschitz_7['deviation_image_instance_exp'][0]\n",
    "# deviation_image_instance_exp.get('Saliency')\n",
    "# type(deviation_image_instance_exp)"
   ]
  },
  {
   "cell_type": "code",
   "execution_count": 49,
   "metadata": {},
   "outputs": [
    {
     "name": "stdout",
     "output_type": "stream",
     "text": [
      "Saliency\n",
      "L = 0.11\n",
      "Grad*input\n",
      "L = 0.13\n",
      "e-LRP\n",
      "L = 0.13\n",
      "Occlusion\n",
      "L = 0.16\n",
      "Deeplift\n",
      "L = 0.12\n"
     ]
    }
   ],
   "source": [
    "deviation_image_instance = cnn_lipschitz['deviation_image_instance'][0]\n",
    "images = dict() #{'Deviation': deviation_image_instance}\n",
    "deviation_image_instance_exp = cnn_lipschitz['deviation_image_instance_exp'][0]\n",
    "images.update(deviation_image_instance_exp)\n",
    "\n",
    "for key, instance in images.items():\n",
    "    print(key)\n",
    "\n",
    "    print(dv_key)"
   ]
  },
  {
   "cell_type": "code",
   "execution_count": 50,
   "metadata": {},
   "outputs": [
    {
     "name": "stdout",
     "output_type": "stream",
     "text": [
      "CPU times: user 163 ms, sys: 5.38 ms, total: 169 ms\n",
      "Wall time: 170 ms\n"
     ]
    },
    {
     "data": {
      "image/png": "[encoded data removed]",
      "text/plain": [
       "<Figure size 1296x216 with 6 Axes>"
      ]
     },
     "metadata": {
      "needs_background": "light"
     },
     "output_type": "display_data"
    },
    {
     "data": {
      "image/png": "[encoded data removed]",
      "text/plain": [
       "<Figure size 1296x216 with 6 Axes>"
      ]
     },
     "metadata": {
      "needs_background": "light"
     },
     "output_type": "display_data"
    }
   ],
   "source": [
    "%%time\n",
    "from utils import plot, plt\n",
    "%matplotlib inline\n",
    "\n",
    "n_cols = 6\n",
    "n_rows = 1\n",
    "fig, axes = plt.subplots(nrows=n_rows, ncols=n_cols, figsize=(3*n_cols, 3*n_rows))\n",
    "ax = 0\n",
    "\n",
    "image_instance = cnn_lipschitz['image_instance'][0]\n",
    "images = {'Original': image_instance}\n",
    "image_instance_exp = cnn_lipschitz['image_instance_exp'][0]\n",
    "images.update(image_instance_exp)\n",
    "\n",
    "for key, instance in images.items():\n",
    "    if ax == 0:\n",
    "        plot(instance.reshape(28,28), cmap='viridis', axis=axes[ax]).set_title(key)\n",
    "    else:\n",
    "        plot(instance.reshape(28,28), axis=axes[ax]).set_title(key)\n",
    "    ax = ax + 1\n",
    "    \n",
    "\n",
    "\n",
    "fig, axes = plt.subplots(nrows=n_rows, ncols=n_cols, figsize=(3*n_cols, 3*n_rows))\n",
    "ax = 0\n",
    "\n",
    "deviation_image_instance = cnn_lipschitz['deviation_image_instance'][0]\n",
    "images = {'Deviation': deviation_image_instance}\n",
    "deviation_image_instance_exp = cnn_lipschitz['deviation_image_instance_exp'][0]\n",
    "images.update(deviation_image_instance_exp)\n",
    "\n",
    "for key, instance in images.items():\n",
    "    if ax == 0:\n",
    "        plot(instance.reshape(28,28), cmap='viridis', axis=axes[ax]).set_title(key)\n",
    "    else:\n",
    "        lc = cnn_lipschitz['lc_coefficents'][0][key]\n",
    "        lc_key = 'lc_coefficent_' + key\n",
    "        dv_key = 'L = {}'.format(str(round(lc[lc_key], 2)))\n",
    "        plot(instance.reshape(28,28), axis=axes[ax]).set_title(dv_key)\n",
    "    ax = ax + 1"
   ]
  },
  {
   "cell_type": "code",
   "execution_count": 51,
   "metadata": {},
   "outputs": [
    {
     "name": "stdout",
     "output_type": "stream",
     "text": [
      "CPU times: user 160 ms, sys: 6.29 ms, total: 166 ms\n",
      "Wall time: 162 ms\n"
     ]
    },
    {
     "data": {
      "image/png": "[encoded data removed]",
      "text/plain": [
       "<Figure size 1296x216 with 6 Axes>"
      ]
     },
     "metadata": {
      "needs_background": "light"
     },
     "output_type": "display_data"
    },
    {
     "data": {
      "image/png": "[encoded data removed]",
      "text/plain": [
       "<Figure size 1296x216 with 6 Axes>"
      ]
     },
     "metadata": {
      "needs_background": "light"
     },
     "output_type": "display_data"
    }
   ],
   "source": [
    "%%time\n",
    "from utils import plot, plt\n",
    "%matplotlib inline\n",
    "\n",
    "n_cols = 6\n",
    "n_rows = 1\n",
    "fig, axes = plt.subplots(nrows=n_rows, ncols=n_cols, figsize=(3*n_cols, 3*n_rows))\n",
    "ax = 0\n",
    "\n",
    "image_instance = cnn_lipschitz_7['image_instance'][0]\n",
    "images = {'Original': image_instance}\n",
    "image_instance_exp = cnn_lipschitz_7['image_instance_exp'][0]\n",
    "images.update(image_instance_exp)\n",
    "\n",
    "for key, instance in images.items():\n",
    "    if ax == 0:\n",
    "        plot(instance.reshape(28,28), cmap='viridis', axis=axes[ax]).set_title(key)\n",
    "    else:\n",
    "        plot(instance.reshape(28,28), axis=axes[ax]).set_title(key)\n",
    "    ax = ax + 1\n",
    "    \n",
    "\n",
    "\n",
    "fig, axes = plt.subplots(nrows=n_rows, ncols=n_cols, figsize=(3*n_cols, 3*n_rows))\n",
    "ax = 0\n",
    "\n",
    "deviation_image_instance = cnn_lipschitz_7['deviation_image_instance'][0]\n",
    "images = {'Deviation': deviation_image_instance}\n",
    "deviation_image_instance_exp = cnn_lipschitz_7['deviation_image_instance_exp'][0]\n",
    "images.update(deviation_image_instance_exp)\n",
    "\n",
    "for key, instance in images.items():\n",
    "    if ax == 0:\n",
    "        plot(instance.reshape(28,28), cmap='viridis', axis=axes[ax]).set_title(key)\n",
    "    else:\n",
    "        lc = cnn_lipschitz_7['lc_coefficents'][0][key]\n",
    "        lc_key = 'lc_coefficent_' + key\n",
    "        dv_key = 'L = {}'.format(str(round(lc[lc_key], 2)))\n",
    "        plot(instance.reshape(28,28), axis=axes[ax]).set_title(dv_key)\n",
    "    ax = ax + 1"
   ]
  },
  {
   "cell_type": "code",
   "execution_count": null,
   "metadata": {},
   "outputs": [],
   "source": []
  },
  {
   "cell_type": "code",
   "execution_count": null,
   "metadata": {},
   "outputs": [],
   "source": [
    "\n",
    "# explanations = [img, sal, gradin, elrp, occ, occ]\n",
    "# i = 0\n",
    "# for image in explanations:\n",
    "# #     row, col = divmod(i, 2)\n",
    "# #     print(\"row\", i)\n",
    "# #     print(col)\n",
    "# #     print(i)\n",
    "#     plot(image.reshape(28,28), axis=axes[i]).set_title('saliency')\n",
    "# #     plot(a2.reshape(28,28), axis=axes[i]).set_title('Grad*Input')\n",
    "#     i = i + 1\n",
    "\n",
    "    \n",
    "# for i, (a1, a2) in enumerate(zip(attributions_gradin, attributions_sal)):\n",
    "#     row, col = divmod(i, 2)\n",
    "#     print(row)\n",
    "#     print(col)\n",
    "#     plot(xs[i].reshape(28, 28), cmap='Greys', axis=axes[row, col*3]).set_title('Original')\n",
    "# #     plot(xs[i].reshape(28, 28), axis=axes[row, col*3]).set_title('Original')\n",
    "#     plot(a1.reshape(28,28), xi = xs[i], axis=axes[row,col*3+1]).set_title('Grad*Input')    \n",
    "#     plot(a2.reshape(28,28), xi = xs[i], axis=axes[row,col*3+2]).set_title('saliency')"
   ]
  },
  {
   "cell_type": "code",
   "execution_count": null,
   "metadata": {},
   "outputs": [],
   "source": []
  },
  {
   "cell_type": "markdown",
   "metadata": {},
   "source": [
    "### Set instances, explanations and epsilon choices"
   ]
  },
  {
   "cell_type": "code",
   "execution_count": 37,
   "metadata": {},
   "outputs": [
    {
     "data": {
      "text/plain": [
       "array([[5.1, 3.4, 1.5, 0.2],\n",
       "       [5. , 3.4, 1.6, 0.4],\n",
       "       [7.2, 3.6, 6.1, 2.5],\n",
       "       [6.3, 2.7, 4.9, 1.8],\n",
       "       [6.7, 3. , 5. , 1.7]])"
      ]
     },
     "metadata": {},
     "output_type": "display_data"
    }
   ],
   "source": [
    "X = pd.DataFrame(test)\n",
    "display(X.head().values)\n",
    "x_points = X.copy().values\n",
    "\n",
    "radii = [1.00]\n",
    "# radii = [0.75, 1.00, 1.25]"
   ]
  },
  {
   "cell_type": "markdown",
   "metadata": {},
   "source": [
    "### Lipschitz  estimations\n",
    "    Predictive model: random forest\n",
    "    Explanation methods: LIME, SHAP"
   ]
  },
  {
   "cell_type": "code",
   "execution_count": 40,
   "metadata": {},
   "outputs": [
    {
     "name": "stdout",
     "output_type": "stream",
     "text": [
      "LIME generated explanations\n"
     ]
    },
    {
     "data": {
      "text/html": [
       "<div>\n",
       "<style scoped>\n",
       "    .dataframe tbody tr th:only-of-type {\n",
       "        vertical-align: middle;\n",
       "    }\n",
       "\n",
       "    .dataframe tbody tr th {\n",
       "        vertical-align: top;\n",
       "    }\n",
       "\n",
       "    .dataframe thead th {\n",
       "        text-align: right;\n",
       "    }\n",
       "</style>\n",
       "<table border=\"1\" class=\"dataframe\">\n",
       "  <thead>\n",
       "    <tr style=\"text-align: right;\">\n",
       "      <th></th>\n",
       "      <th>sepal length (cm)</th>\n",
       "      <th>sepal width (cm)</th>\n",
       "      <th>petal length (cm)</th>\n",
       "      <th>petal width (cm)</th>\n",
       "    </tr>\n",
       "  </thead>\n",
       "  <tbody>\n",
       "    <tr>\n",
       "      <td>0</td>\n",
       "      <td>0.029378</td>\n",
       "      <td>0.014655</td>\n",
       "      <td>0.427538</td>\n",
       "      <td>0.433357</td>\n",
       "    </tr>\n",
       "    <tr>\n",
       "      <td>1</td>\n",
       "      <td>0.003731</td>\n",
       "      <td>0.008241</td>\n",
       "      <td>-0.039195</td>\n",
       "      <td>-0.069708</td>\n",
       "    </tr>\n",
       "    <tr>\n",
       "      <td>2</td>\n",
       "      <td>0.034853</td>\n",
       "      <td>-0.005104</td>\n",
       "      <td>0.401783</td>\n",
       "      <td>0.487102</td>\n",
       "    </tr>\n",
       "    <tr>\n",
       "      <td>3</td>\n",
       "      <td>-0.028999</td>\n",
       "      <td>-0.011783</td>\n",
       "      <td>0.019920</td>\n",
       "      <td>0.032801</td>\n",
       "    </tr>\n",
       "    <tr>\n",
       "      <td>4</td>\n",
       "      <td>0.020741</td>\n",
       "      <td>-0.000242</td>\n",
       "      <td>0.004176</td>\n",
       "      <td>0.037995</td>\n",
       "    </tr>\n",
       "  </tbody>\n",
       "</table>\n",
       "</div>"
      ],
      "text/plain": [
       "   sepal length (cm)  sepal width (cm)  petal length (cm)  petal width (cm)\n",
       "0           0.029378          0.014655           0.427538          0.433357\n",
       "1           0.003731          0.008241          -0.039195         -0.069708\n",
       "2           0.034853         -0.005104           0.401783          0.487102\n",
       "3          -0.028999         -0.011783           0.019920          0.032801\n",
       "4           0.020741         -0.000242           0.004176          0.037995"
      ]
     },
     "metadata": {},
     "output_type": "display_data"
    },
    {
     "name": "stdout",
     "output_type": "stream",
     "text": [
      "SHAP generated explanations\n"
     ]
    },
    {
     "data": {
      "text/html": [
       "<div>\n",
       "<style scoped>\n",
       "    .dataframe tbody tr th:only-of-type {\n",
       "        vertical-align: middle;\n",
       "    }\n",
       "\n",
       "    .dataframe tbody tr th {\n",
       "        vertical-align: top;\n",
       "    }\n",
       "\n",
       "    .dataframe thead th {\n",
       "        text-align: right;\n",
       "    }\n",
       "</style>\n",
       "<table border=\"1\" class=\"dataframe\">\n",
       "  <thead>\n",
       "    <tr style=\"text-align: right;\">\n",
       "      <th></th>\n",
       "      <th>sepal length (cm)</th>\n",
       "      <th>sepal width (cm)</th>\n",
       "      <th>petal length (cm)</th>\n",
       "      <th>petal width (cm)</th>\n",
       "    </tr>\n",
       "  </thead>\n",
       "  <tbody>\n",
       "    <tr>\n",
       "      <td>0</td>\n",
       "      <td>0.067061</td>\n",
       "      <td>0.002869</td>\n",
       "      <td>0.294490</td>\n",
       "      <td>0.302247</td>\n",
       "    </tr>\n",
       "    <tr>\n",
       "      <td>1</td>\n",
       "      <td>0.067061</td>\n",
       "      <td>0.002869</td>\n",
       "      <td>0.294490</td>\n",
       "      <td>0.302247</td>\n",
       "    </tr>\n",
       "    <tr>\n",
       "      <td>2</td>\n",
       "      <td>0.066648</td>\n",
       "      <td>-0.001801</td>\n",
       "      <td>0.308798</td>\n",
       "      <td>0.291021</td>\n",
       "    </tr>\n",
       "    <tr>\n",
       "      <td>3</td>\n",
       "      <td>0.029199</td>\n",
       "      <td>-0.004630</td>\n",
       "      <td>0.125006</td>\n",
       "      <td>0.407091</td>\n",
       "    </tr>\n",
       "    <tr>\n",
       "      <td>4</td>\n",
       "      <td>0.042772</td>\n",
       "      <td>0.009896</td>\n",
       "      <td>0.176799</td>\n",
       "      <td>0.155200</td>\n",
       "    </tr>\n",
       "  </tbody>\n",
       "</table>\n",
       "</div>"
      ],
      "text/plain": [
       "   sepal length (cm)  sepal width (cm)  petal length (cm)  petal width (cm)\n",
       "0           0.067061          0.002869           0.294490          0.302247\n",
       "1           0.067061          0.002869           0.294490          0.302247\n",
       "2           0.066648         -0.001801           0.308798          0.291021\n",
       "3           0.029199         -0.004630           0.125006          0.407091\n",
       "4           0.042772          0.009896           0.176799          0.155200"
      ]
     },
     "metadata": {},
     "output_type": "display_data"
    }
   ],
   "source": [
    "print(\"LIME generated explanations\")\n",
    "X_lime_exp = explanations_lime_rf.iloc[:,:-1].copy()\n",
    "display(X_lime_exp.head())\n",
    "\n",
    "print(\"SHAP generated explanations\")\n",
    "X_shap_exp = explanations_shap_rf.iloc[:,:].copy()\n",
    "display(X_shap_exp.head())"
   ]
  },
  {
   "cell_type": "code",
   "execution_count": 41,
   "metadata": {},
   "outputs": [],
   "source": [
    "x_points_lime_exp = X_lime_exp.copy().values\n",
    "x_points_shap_exp = X_shap_exp.copy().values"
   ]
  },
  {
   "cell_type": "code",
   "execution_count": 42,
   "metadata": {},
   "outputs": [],
   "source": [
    "zippedList, columns_lipschitz = find_lipschitz_estimates(x_points,\n",
    "                                                         x_points_lime_exp,\n",
    "                                                         x_points_shap_exp,\n",
    "                                                         radii)\n",
    "rf_lipschitz = pd.DataFrame(zippedList, columns=columns_lipschitz)"
   ]
  },
  {
   "cell_type": "code",
   "execution_count": 473,
   "metadata": {},
   "outputs": [
    {
     "data": {
      "text/html": [
       "<div>\n",
       "<style scoped>\n",
       "    .dataframe tbody tr th:only-of-type {\n",
       "        vertical-align: middle;\n",
       "    }\n",
       "\n",
       "    .dataframe tbody tr th {\n",
       "        vertical-align: top;\n",
       "    }\n",
       "\n",
       "    .dataframe thead th {\n",
       "        text-align: right;\n",
       "    }\n",
       "</style>\n",
       "<table border=\"1\" class=\"dataframe\">\n",
       "  <thead>\n",
       "    <tr style=\"text-align: right;\">\n",
       "      <th></th>\n",
       "      <th>instance</th>\n",
       "      <th>anchor_x_index</th>\n",
       "      <th>lc_coefficient_lime</th>\n",
       "      <th>x_deviation_index_lime</th>\n",
       "      <th>lc_coefficient_shap</th>\n",
       "      <th>x_deviation_index_shap</th>\n",
       "      <th>radiuses</th>\n",
       "      <th>neighborhood_size</th>\n",
       "    </tr>\n",
       "  </thead>\n",
       "  <tbody>\n",
       "    <tr>\n",
       "      <td>0</td>\n",
       "      <td>[5.1, 3.4, 1.5, 0.2]</td>\n",
       "      <td>0</td>\n",
       "      <td>2.803608</td>\n",
       "      <td>1</td>\n",
       "      <td>0.203645</td>\n",
       "      <td>11</td>\n",
       "      <td>1.0</td>\n",
       "      <td>8</td>\n",
       "    </tr>\n",
       "    <tr>\n",
       "      <td>1</td>\n",
       "      <td>[5.0, 3.4, 1.6, 0.4]</td>\n",
       "      <td>1</td>\n",
       "      <td>2.803608</td>\n",
       "      <td>0</td>\n",
       "      <td>0.149435</td>\n",
       "      <td>11</td>\n",
       "      <td>1.0</td>\n",
       "      <td>8</td>\n",
       "    </tr>\n",
       "    <tr>\n",
       "      <td>2</td>\n",
       "      <td>[7.2, 3.6, 6.1, 2.5]</td>\n",
       "      <td>2</td>\n",
       "      <td>0.018179</td>\n",
       "      <td>13</td>\n",
       "      <td>0.025685</td>\n",
       "      <td>8</td>\n",
       "      <td>1.0</td>\n",
       "      <td>6</td>\n",
       "    </tr>\n",
       "    <tr>\n",
       "      <td>3</td>\n",
       "      <td>[6.3, 2.7, 4.9, 1.8]</td>\n",
       "      <td>3</td>\n",
       "      <td>0.690476</td>\n",
       "      <td>24</td>\n",
       "      <td>0.496384</td>\n",
       "      <td>4</td>\n",
       "      <td>1.0</td>\n",
       "      <td>10</td>\n",
       "    </tr>\n",
       "    <tr>\n",
       "      <td>4</td>\n",
       "      <td>[6.7, 3.0, 5.0, 1.7]</td>\n",
       "      <td>4</td>\n",
       "      <td>1.002488</td>\n",
       "      <td>7</td>\n",
       "      <td>0.515260</td>\n",
       "      <td>16</td>\n",
       "      <td>1.0</td>\n",
       "      <td>9</td>\n",
       "    </tr>\n",
       "    <tr>\n",
       "      <td>5</td>\n",
       "      <td>[4.8, 3.4, 1.9, 0.2]</td>\n",
       "      <td>5</td>\n",
       "      <td>1.228719</td>\n",
       "      <td>1</td>\n",
       "      <td>0.100752</td>\n",
       "      <td>11</td>\n",
       "      <td>1.0</td>\n",
       "      <td>8</td>\n",
       "    </tr>\n",
       "    <tr>\n",
       "      <td>6</td>\n",
       "      <td>[5.1, 3.5, 1.4, 0.2]</td>\n",
       "      <td>6</td>\n",
       "      <td>2.190506</td>\n",
       "      <td>1</td>\n",
       "      <td>0.225513</td>\n",
       "      <td>11</td>\n",
       "      <td>1.0</td>\n",
       "      <td>8</td>\n",
       "    </tr>\n",
       "    <tr>\n",
       "      <td>7</td>\n",
       "      <td>[6.9, 3.1, 5.4, 2.1]</td>\n",
       "      <td>7</td>\n",
       "      <td>1.002488</td>\n",
       "      <td>4</td>\n",
       "      <td>0.327276</td>\n",
       "      <td>4</td>\n",
       "      <td>1.0</td>\n",
       "      <td>8</td>\n",
       "    </tr>\n",
       "    <tr>\n",
       "      <td>8</td>\n",
       "      <td>[6.7, 3.3, 5.7, 2.5]</td>\n",
       "      <td>8</td>\n",
       "      <td>0.548146</td>\n",
       "      <td>21</td>\n",
       "      <td>0.025685</td>\n",
       "      <td>2</td>\n",
       "      <td>1.0</td>\n",
       "      <td>6</td>\n",
       "    </tr>\n",
       "    <tr>\n",
       "      <td>9</td>\n",
       "      <td>[6.3, 3.3, 4.7, 1.6]</td>\n",
       "      <td>9</td>\n",
       "      <td>0.565687</td>\n",
       "      <td>27</td>\n",
       "      <td>0.672070</td>\n",
       "      <td>27</td>\n",
       "      <td>1.0</td>\n",
       "      <td>7</td>\n",
       "    </tr>\n",
       "    <tr>\n",
       "      <td>10</td>\n",
       "      <td>[7.9, 3.8, 6.4, 2.0]</td>\n",
       "      <td>10</td>\n",
       "      <td>0.011360</td>\n",
       "      <td>14</td>\n",
       "      <td>0.007315</td>\n",
       "      <td>14</td>\n",
       "      <td>1.0</td>\n",
       "      <td>2</td>\n",
       "    </tr>\n",
       "    <tr>\n",
       "      <td>11</td>\n",
       "      <td>[5.5, 3.5, 1.3, 0.2]</td>\n",
       "      <td>11</td>\n",
       "      <td>1.100667</td>\n",
       "      <td>1</td>\n",
       "      <td>0.225513</td>\n",
       "      <td>6</td>\n",
       "      <td>1.0</td>\n",
       "      <td>9</td>\n",
       "    </tr>\n",
       "    <tr>\n",
       "      <td>12</td>\n",
       "      <td>[6.0, 2.2, 5.0, 1.5]</td>\n",
       "      <td>12</td>\n",
       "      <td>0.555807</td>\n",
       "      <td>24</td>\n",
       "      <td>0.377427</td>\n",
       "      <td>20</td>\n",
       "      <td>1.0</td>\n",
       "      <td>5</td>\n",
       "    </tr>\n",
       "    <tr>\n",
       "      <td>13</td>\n",
       "      <td>[6.7, 3.3, 5.7, 2.1]</td>\n",
       "      <td>13</td>\n",
       "      <td>0.875940</td>\n",
       "      <td>21</td>\n",
       "      <td>0.232599</td>\n",
       "      <td>4</td>\n",
       "      <td>1.0</td>\n",
       "      <td>7</td>\n",
       "    </tr>\n",
       "    <tr>\n",
       "      <td>14</td>\n",
       "      <td>[7.6, 3.0, 6.6, 2.1]</td>\n",
       "      <td>14</td>\n",
       "      <td>0.013398</td>\n",
       "      <td>2</td>\n",
       "      <td>0.007315</td>\n",
       "      <td>10</td>\n",
       "      <td>1.0</td>\n",
       "      <td>2</td>\n",
       "    </tr>\n",
       "    <tr>\n",
       "      <td>15</td>\n",
       "      <td>[5.7, 4.4, 1.5, 0.4]</td>\n",
       "      <td>15</td>\n",
       "      <td>0.502385</td>\n",
       "      <td>11</td>\n",
       "      <td>0.034155</td>\n",
       "      <td>11</td>\n",
       "      <td>1.0</td>\n",
       "      <td>1</td>\n",
       "    </tr>\n",
       "    <tr>\n",
       "      <td>16</td>\n",
       "      <td>[6.2, 2.8, 4.8, 1.8]</td>\n",
       "      <td>16</td>\n",
       "      <td>0.731153</td>\n",
       "      <td>24</td>\n",
       "      <td>0.574581</td>\n",
       "      <td>9</td>\n",
       "      <td>1.0</td>\n",
       "      <td>9</td>\n",
       "    </tr>\n",
       "    <tr>\n",
       "      <td>17</td>\n",
       "      <td>[4.9, 2.4, 3.3, 1.0]</td>\n",
       "      <td>17</td>\n",
       "      <td>-1.000000</td>\n",
       "      <td>NaN</td>\n",
       "      <td>-1.000000</td>\n",
       "      <td>NaN</td>\n",
       "      <td>1.0</td>\n",
       "      <td>0</td>\n",
       "    </tr>\n",
       "    <tr>\n",
       "      <td>18</td>\n",
       "      <td>[5.0, 3.2, 1.2, 0.2]</td>\n",
       "      <td>18</td>\n",
       "      <td>1.415825</td>\n",
       "      <td>1</td>\n",
       "      <td>0.157441</td>\n",
       "      <td>11</td>\n",
       "      <td>1.0</td>\n",
       "      <td>8</td>\n",
       "    </tr>\n",
       "    <tr>\n",
       "      <td>19</td>\n",
       "      <td>[6.7, 3.1, 5.6, 2.4]</td>\n",
       "      <td>19</td>\n",
       "      <td>0.665679</td>\n",
       "      <td>21</td>\n",
       "      <td>0.215590</td>\n",
       "      <td>4</td>\n",
       "      <td>1.0</td>\n",
       "      <td>7</td>\n",
       "    </tr>\n",
       "    <tr>\n",
       "      <td>20</td>\n",
       "      <td>[6.1, 2.8, 4.7, 1.2]</td>\n",
       "      <td>20</td>\n",
       "      <td>0.497432</td>\n",
       "      <td>16</td>\n",
       "      <td>0.441636</td>\n",
       "      <td>16</td>\n",
       "      <td>1.0</td>\n",
       "      <td>9</td>\n",
       "    </tr>\n",
       "    <tr>\n",
       "      <td>21</td>\n",
       "      <td>[6.4, 3.1, 5.5, 1.8]</td>\n",
       "      <td>21</td>\n",
       "      <td>0.875940</td>\n",
       "      <td>13</td>\n",
       "      <td>0.376091</td>\n",
       "      <td>16</td>\n",
       "      <td>1.0</td>\n",
       "      <td>10</td>\n",
       "    </tr>\n",
       "    <tr>\n",
       "      <td>22</td>\n",
       "      <td>[5.7, 2.8, 4.5, 1.3]</td>\n",
       "      <td>22</td>\n",
       "      <td>0.424714</td>\n",
       "      <td>27</td>\n",
       "      <td>0.345321</td>\n",
       "      <td>27</td>\n",
       "      <td>1.0</td>\n",
       "      <td>8</td>\n",
       "    </tr>\n",
       "    <tr>\n",
       "      <td>23</td>\n",
       "      <td>[5.8, 2.7, 3.9, 1.2]</td>\n",
       "      <td>23</td>\n",
       "      <td>0.072377</td>\n",
       "      <td>22</td>\n",
       "      <td>0.020518</td>\n",
       "      <td>22</td>\n",
       "      <td>1.0</td>\n",
       "      <td>2</td>\n",
       "    </tr>\n",
       "    <tr>\n",
       "      <td>24</td>\n",
       "      <td>[5.7, 2.5, 5.0, 2.0]</td>\n",
       "      <td>24</td>\n",
       "      <td>0.731153</td>\n",
       "      <td>16</td>\n",
       "      <td>0.321056</td>\n",
       "      <td>12</td>\n",
       "      <td>1.0</td>\n",
       "      <td>6</td>\n",
       "    </tr>\n",
       "    <tr>\n",
       "      <td>25</td>\n",
       "      <td>[5.1, 3.3, 1.7, 0.5]</td>\n",
       "      <td>25</td>\n",
       "      <td>1.832288</td>\n",
       "      <td>0</td>\n",
       "      <td>0.139116</td>\n",
       "      <td>11</td>\n",
       "      <td>1.0</td>\n",
       "      <td>8</td>\n",
       "    </tr>\n",
       "    <tr>\n",
       "      <td>26</td>\n",
       "      <td>[5.0, 3.0, 1.6, 0.2]</td>\n",
       "      <td>26</td>\n",
       "      <td>1.161787</td>\n",
       "      <td>1</td>\n",
       "      <td>0.120858</td>\n",
       "      <td>11</td>\n",
       "      <td>1.0</td>\n",
       "      <td>8</td>\n",
       "    </tr>\n",
       "    <tr>\n",
       "      <td>27</td>\n",
       "      <td>[5.9, 3.2, 4.8, 1.8]</td>\n",
       "      <td>27</td>\n",
       "      <td>0.605812</td>\n",
       "      <td>24</td>\n",
       "      <td>0.672070</td>\n",
       "      <td>9</td>\n",
       "      <td>1.0</td>\n",
       "      <td>8</td>\n",
       "    </tr>\n",
       "    <tr>\n",
       "      <td>28</td>\n",
       "      <td>[4.7, 3.2, 1.3, 0.2]</td>\n",
       "      <td>28</td>\n",
       "      <td>1.348706</td>\n",
       "      <td>1</td>\n",
       "      <td>0.109149</td>\n",
       "      <td>11</td>\n",
       "      <td>1.0</td>\n",
       "      <td>8</td>\n",
       "    </tr>\n",
       "    <tr>\n",
       "      <td>29</td>\n",
       "      <td>[6.3, 3.4, 5.6, 2.4]</td>\n",
       "      <td>29</td>\n",
       "      <td>0.669116</td>\n",
       "      <td>21</td>\n",
       "      <td>0.010600</td>\n",
       "      <td>7</td>\n",
       "      <td>1.0</td>\n",
       "      <td>5</td>\n",
       "    </tr>\n",
       "  </tbody>\n",
       "</table>\n",
       "</div>"
      ],
      "text/plain": [
       "                instance  anchor_x_index  lc_coefficient_lime  \\\n",
       "0   [5.1, 3.4, 1.5, 0.2]               0             2.803608   \n",
       "1   [5.0, 3.4, 1.6, 0.4]               1             2.803608   \n",
       "2   [7.2, 3.6, 6.1, 2.5]               2             0.018179   \n",
       "3   [6.3, 2.7, 4.9, 1.8]               3             0.690476   \n",
       "4   [6.7, 3.0, 5.0, 1.7]               4             1.002488   \n",
       "5   [4.8, 3.4, 1.9, 0.2]               5             1.228719   \n",
       "6   [5.1, 3.5, 1.4, 0.2]               6             2.190506   \n",
       "7   [6.9, 3.1, 5.4, 2.1]               7             1.002488   \n",
       "8   [6.7, 3.3, 5.7, 2.5]               8             0.548146   \n",
       "9   [6.3, 3.3, 4.7, 1.6]               9             0.565687   \n",
       "10  [7.9, 3.8, 6.4, 2.0]              10             0.011360   \n",
       "11  [5.5, 3.5, 1.3, 0.2]              11             1.100667   \n",
       "12  [6.0, 2.2, 5.0, 1.5]              12             0.555807   \n",
       "13  [6.7, 3.3, 5.7, 2.1]              13             0.875940   \n",
       "14  [7.6, 3.0, 6.6, 2.1]              14             0.013398   \n",
       "15  [5.7, 4.4, 1.5, 0.4]              15             0.502385   \n",
       "16  [6.2, 2.8, 4.8, 1.8]              16             0.731153   \n",
       "17  [4.9, 2.4, 3.3, 1.0]              17            -1.000000   \n",
       "18  [5.0, 3.2, 1.2, 0.2]              18             1.415825   \n",
       "19  [6.7, 3.1, 5.6, 2.4]              19             0.665679   \n",
       "20  [6.1, 2.8, 4.7, 1.2]              20             0.497432   \n",
       "21  [6.4, 3.1, 5.5, 1.8]              21             0.875940   \n",
       "22  [5.7, 2.8, 4.5, 1.3]              22             0.424714   \n",
       "23  [5.8, 2.7, 3.9, 1.2]              23             0.072377   \n",
       "24  [5.7, 2.5, 5.0, 2.0]              24             0.731153   \n",
       "25  [5.1, 3.3, 1.7, 0.5]              25             1.832288   \n",
       "26  [5.0, 3.0, 1.6, 0.2]              26             1.161787   \n",
       "27  [5.9, 3.2, 4.8, 1.8]              27             0.605812   \n",
       "28  [4.7, 3.2, 1.3, 0.2]              28             1.348706   \n",
       "29  [6.3, 3.4, 5.6, 2.4]              29             0.669116   \n",
       "\n",
       "   x_deviation_index_lime  lc_coefficient_shap x_deviation_index_shap  \\\n",
       "0                       1             0.203645                     11   \n",
       "1                       0             0.149435                     11   \n",
       "2                      13             0.025685                      8   \n",
       "3                      24             0.496384                      4   \n",
       "4                       7             0.515260                     16   \n",
       "5                       1             0.100752                     11   \n",
       "6                       1             0.225513                     11   \n",
       "7                       4             0.327276                      4   \n",
       "8                      21             0.025685                      2   \n",
       "9                      27             0.672070                     27   \n",
       "10                     14             0.007315                     14   \n",
       "11                      1             0.225513                      6   \n",
       "12                     24             0.377427                     20   \n",
       "13                     21             0.232599                      4   \n",
       "14                      2             0.007315                     10   \n",
       "15                     11             0.034155                     11   \n",
       "16                     24             0.574581                      9   \n",
       "17                    NaN            -1.000000                    NaN   \n",
       "18                      1             0.157441                     11   \n",
       "19                     21             0.215590                      4   \n",
       "20                     16             0.441636                     16   \n",
       "21                     13             0.376091                     16   \n",
       "22                     27             0.345321                     27   \n",
       "23                     22             0.020518                     22   \n",
       "24                     16             0.321056                     12   \n",
       "25                      0             0.139116                     11   \n",
       "26                      1             0.120858                     11   \n",
       "27                     24             0.672070                      9   \n",
       "28                      1             0.109149                     11   \n",
       "29                     21             0.010600                      7   \n",
       "\n",
       "    radiuses  neighborhood_size  \n",
       "0        1.0                  8  \n",
       "1        1.0                  8  \n",
       "2        1.0                  6  \n",
       "3        1.0                 10  \n",
       "4        1.0                  9  \n",
       "5        1.0                  8  \n",
       "6        1.0                  8  \n",
       "7        1.0                  8  \n",
       "8        1.0                  6  \n",
       "9        1.0                  7  \n",
       "10       1.0                  2  \n",
       "11       1.0                  9  \n",
       "12       1.0                  5  \n",
       "13       1.0                  7  \n",
       "14       1.0                  2  \n",
       "15       1.0                  1  \n",
       "16       1.0                  9  \n",
       "17       1.0                  0  \n",
       "18       1.0                  8  \n",
       "19       1.0                  7  \n",
       "20       1.0                  9  \n",
       "21       1.0                 10  \n",
       "22       1.0                  8  \n",
       "23       1.0                  2  \n",
       "24       1.0                  6  \n",
       "25       1.0                  8  \n",
       "26       1.0                  8  \n",
       "27       1.0                  8  \n",
       "28       1.0                  8  \n",
       "29       1.0                  5  "
      ]
     },
     "metadata": {},
     "output_type": "display_data"
    }
   ],
   "source": [
    "display(rf_lipschitz)"
   ]
  },
  {
   "cell_type": "markdown",
   "metadata": {},
   "source": [
    "# 4. Results"
   ]
  },
  {
   "cell_type": "markdown",
   "metadata": {},
   "source": [
    "## a. Selecting anchor point or point of interest to demonstrate results\n",
    "\n",
    "Here the selection is made based on max 'lc_coefficient_lime' just to take an example point."
   ]
  },
  {
   "cell_type": "markdown",
   "metadata": {},
   "source": [
    "### Anchor point"
   ]
  },
  {
   "cell_type": "code",
   "execution_count": 468,
   "metadata": {},
   "outputs": [
    {
     "data": {
      "text/plain": [
       "instance                  [5.1, 3.4, 1.5, 0.2]\n",
       "anchor_x_index                               0\n",
       "lc_coefficient_lime                    2.80361\n",
       "x_deviation_index_lime                       1\n",
       "lc_coefficient_shap                   0.203645\n",
       "x_deviation_index_shap                      11\n",
       "radiuses                                     1\n",
       "neighborhood_size                            8\n",
       "Name: 0, dtype: object"
      ]
     },
     "metadata": {},
     "output_type": "display_data"
    },
    {
     "name": "stdout",
     "output_type": "stream",
     "text": [
      "Anchor Point\n",
      "[5.1 3.4 1.5 0.2]\n"
     ]
    }
   ],
   "source": [
    "highest_deviation_example = rf_lipschitz.loc[rf_lipschitz['lc_coefficient_lime'].idxmax()]\n",
    "display(highest_deviation_example)\n",
    "\n",
    "print(\"Anchor Point\")\n",
    "anchor_point_index = highest_deviation_example[\"anchor_x_index\"]\n",
    "anchor_point = highest_deviation_example['instance']\n",
    "print(anchor_point)"
   ]
  },
  {
   "cell_type": "markdown",
   "metadata": {},
   "source": [
    "### Deviation point with respect to LIME explanation"
   ]
  },
  {
   "cell_type": "code",
   "execution_count": 470,
   "metadata": {},
   "outputs": [
    {
     "name": "stdout",
     "output_type": "stream",
     "text": [
      "\n",
      "Deviation Point with respect to LIME explanation\n",
      "[5.  3.4 1.6 0.4]\n"
     ]
    }
   ],
   "source": [
    "print(\"\\nDeviation Point with respect to LIME explanation\")\n",
    "deviation_point_lime_index = highest_deviation_example[\"x_deviation_index_lime\"]\n",
    "deviation_point_lime = rf_lipschitz['instance'][deviation_point_lime_index]\n",
    "print(deviation_point_lime)"
   ]
  },
  {
   "cell_type": "markdown",
   "metadata": {},
   "source": [
    "### Deviation point with respect to SHAP explanation"
   ]
  },
  {
   "cell_type": "code",
   "execution_count": 472,
   "metadata": {},
   "outputs": [
    {
     "name": "stdout",
     "output_type": "stream",
     "text": [
      "\n",
      "Deviation Point with respect to SHAP explanation\n",
      "[5.5 3.5 1.3 0.2]\n"
     ]
    }
   ],
   "source": [
    "print(\"\\nDeviation Point with respect to SHAP explanation\")\n",
    "deviation_point_shap_index = highest_deviation_example[\"x_deviation_index_shap\"]\n",
    "deviation_point_shap = rf_lipschitz['instance'][deviation_point_shap_index]\n",
    "print(deviation_point_shap)"
   ]
  },
  {
   "cell_type": "markdown",
   "metadata": {},
   "source": [
    "### Anchor point and deviation point LIME explanation"
   ]
  },
  {
   "cell_type": "code",
   "execution_count": 474,
   "metadata": {},
   "outputs": [
    {
     "name": "stdout",
     "output_type": "stream",
     "text": [
      "Anchor Point LIME explanation\n",
      "[0.029, 0.015, 0.428, 0.433]\n",
      "\n",
      "Deviation Point LIME explanation\n",
      "[0.004, 0.008, -0.039, -0.07]\n"
     ]
    }
   ],
   "source": [
    "print(\"Anchor Point LIME explanation\")\n",
    "anchor_point_lime_exp = x_points_lime_exp[anchor_point_index]\n",
    "anchor_point_lime_exp = [ round(elem, 3) for elem in anchor_point_lime_exp ]\n",
    "print(anchor_point_lime_exp)\n",
    "\n",
    "print(\"\\nDeviation Point LIME explanation\")\n",
    "deviation_point_lime_exp = x_points_lime_exp[deviation_point_lime_index]\n",
    "deviation_point_lime_exp = [ round(elem, 3) for elem in deviation_point_lime_exp ]\n",
    "print(deviation_point_lime_exp)"
   ]
  },
  {
   "cell_type": "markdown",
   "metadata": {},
   "source": [
    "### Anchor point and deviation point SHAP explanation"
   ]
  },
  {
   "cell_type": "code",
   "execution_count": 475,
   "metadata": {},
   "outputs": [
    {
     "name": "stdout",
     "output_type": "stream",
     "text": [
      "Anchor Point SHAP explanation\n",
      "[0.067, 0.003, 0.294, 0.302]\n",
      "\n",
      "Deviation Point SHAP explanation\n",
      "[-0.023, 0.003, 0.312, 0.319]\n"
     ]
    }
   ],
   "source": [
    "print(\"Anchor Point SHAP explanation\")\n",
    "anchor_point_shap_exp = x_points_shap_exp[anchor_point_index]\n",
    "anchor_point_shap_exp = [ round(elem, 3) for elem in anchor_point_shap_exp ]\n",
    "print(anchor_point_shap_exp)\n",
    "\n",
    "print(\"\\nDeviation Point SHAP explanation\")\n",
    "deviation_point_shap_exp = x_points_shap_exp[deviation_point_shap_index]\n",
    "deviation_point_shap_exp = [ round(elem, 3) for elem in deviation_point_shap_exp ]\n",
    "print(deviation_point_shap_exp)"
   ]
  },
  {
   "cell_type": "markdown",
   "metadata": {},
   "source": [
    "## b. Preparing results for box plots\n",
    "    Predictive model: random forest\n",
    "    Epsilon: 1.00\n",
    "    Explanation methods: LIME, SHAP\n",
    "    Evaluation: Lipschitz estimations as stability"
   ]
  },
  {
   "cell_type": "code",
   "execution_count": 283,
   "metadata": {},
   "outputs": [
    {
     "data": {
      "text/html": [
       "<div>\n",
       "<style scoped>\n",
       "    .dataframe tbody tr th:only-of-type {\n",
       "        vertical-align: middle;\n",
       "    }\n",
       "\n",
       "    .dataframe tbody tr th {\n",
       "        vertical-align: top;\n",
       "    }\n",
       "\n",
       "    .dataframe thead th {\n",
       "        text-align: right;\n",
       "    }\n",
       "</style>\n",
       "<table border=\"1\" class=\"dataframe\">\n",
       "  <thead>\n",
       "    <tr style=\"text-align: right;\">\n",
       "      <th></th>\n",
       "      <th>instance</th>\n",
       "      <th>anchor_x_index</th>\n",
       "      <th>lc_coefficient_lime</th>\n",
       "      <th>x_deviation_index_lime</th>\n",
       "      <th>lc_coefficient_shap</th>\n",
       "      <th>x_deviation_index_shap</th>\n",
       "      <th>radiuses</th>\n",
       "      <th>neighborhood_size</th>\n",
       "    </tr>\n",
       "  </thead>\n",
       "  <tbody>\n",
       "    <tr>\n",
       "      <td>0</td>\n",
       "      <td>[5.1, 3.4, 1.5, 0.2]</td>\n",
       "      <td>0</td>\n",
       "      <td>2.803608</td>\n",
       "      <td>1</td>\n",
       "      <td>0.203645</td>\n",
       "      <td>11</td>\n",
       "      <td>1.0</td>\n",
       "      <td>8</td>\n",
       "    </tr>\n",
       "    <tr>\n",
       "      <td>1</td>\n",
       "      <td>[5.0, 3.4, 1.6, 0.4]</td>\n",
       "      <td>1</td>\n",
       "      <td>2.803608</td>\n",
       "      <td>0</td>\n",
       "      <td>0.149435</td>\n",
       "      <td>11</td>\n",
       "      <td>1.0</td>\n",
       "      <td>8</td>\n",
       "    </tr>\n",
       "    <tr>\n",
       "      <td>2</td>\n",
       "      <td>[7.2, 3.6, 6.1, 2.5]</td>\n",
       "      <td>2</td>\n",
       "      <td>0.018179</td>\n",
       "      <td>13</td>\n",
       "      <td>0.025685</td>\n",
       "      <td>8</td>\n",
       "      <td>1.0</td>\n",
       "      <td>6</td>\n",
       "    </tr>\n",
       "    <tr>\n",
       "      <td>3</td>\n",
       "      <td>[6.3, 2.7, 4.9, 1.8]</td>\n",
       "      <td>3</td>\n",
       "      <td>0.690476</td>\n",
       "      <td>24</td>\n",
       "      <td>0.496384</td>\n",
       "      <td>4</td>\n",
       "      <td>1.0</td>\n",
       "      <td>10</td>\n",
       "    </tr>\n",
       "    <tr>\n",
       "      <td>4</td>\n",
       "      <td>[6.7, 3.0, 5.0, 1.7]</td>\n",
       "      <td>4</td>\n",
       "      <td>1.002488</td>\n",
       "      <td>7</td>\n",
       "      <td>0.515260</td>\n",
       "      <td>16</td>\n",
       "      <td>1.0</td>\n",
       "      <td>9</td>\n",
       "    </tr>\n",
       "  </tbody>\n",
       "</table>\n",
       "</div>"
      ],
      "text/plain": [
       "               instance  anchor_x_index  lc_coefficient_lime  \\\n",
       "0  [5.1, 3.4, 1.5, 0.2]               0             2.803608   \n",
       "1  [5.0, 3.4, 1.6, 0.4]               1             2.803608   \n",
       "2  [7.2, 3.6, 6.1, 2.5]               2             0.018179   \n",
       "3  [6.3, 2.7, 4.9, 1.8]               3             0.690476   \n",
       "4  [6.7, 3.0, 5.0, 1.7]               4             1.002488   \n",
       "\n",
       "  x_deviation_index_lime  lc_coefficient_shap x_deviation_index_shap  \\\n",
       "0                      1             0.203645                     11   \n",
       "1                      0             0.149435                     11   \n",
       "2                     13             0.025685                      8   \n",
       "3                     24             0.496384                      4   \n",
       "4                      7             0.515260                     16   \n",
       "\n",
       "   radiuses  neighborhood_size  \n",
       "0       1.0                  8  \n",
       "1       1.0                  8  \n",
       "2       1.0                  6  \n",
       "3       1.0                 10  \n",
       "4       1.0                  9  "
      ]
     },
     "metadata": {},
     "output_type": "display_data"
    }
   ],
   "source": [
    "epsilon1 = rf_lipschitz.loc[rf_lipschitz['neighborhood_size'] > 0]\n",
    "epsilon1 = epsilon1[epsilon1['radiuses'] == 1.00]\n",
    "display(epsilon1.head())"
   ]
  },
  {
   "cell_type": "code",
   "execution_count": 286,
   "metadata": {},
   "outputs": [
    {
     "name": "stdout",
     "output_type": "stream",
     "text": [
      "\n",
      "LIME, epsilon 1.00, Aggregated L(x) =  0.929153143708511\n",
      "SHAP, epsilon 1.00, Aggregated L(x) =  0.24586400627509725\n"
     ]
    }
   ],
   "source": [
    "epsilon1_lc_lime_aggre = np.mean(epsilon1['lc_coefficient_lime'])\n",
    "epsilon1_lc_shap_aggre = np.mean(epsilon1['lc_coefficient_shap'])\n",
    "print(\"\\nLIME, epsilon 1.00, Aggregated L(x) = \", epsilon1_lc_lime_aggre)\n",
    "print(\"SHAP, epsilon 1.00, Aggregated L(x) = \", epsilon1_lc_shap_aggre)"
   ]
  },
  {
   "cell_type": "code",
   "execution_count": 287,
   "metadata": {},
   "outputs": [],
   "source": [
    "lc_lime_df = epsilon1.loc[:, ['lc_coefficient_lime']]\n",
    "lc_lime_df.rename(columns={'lc_coefficient_lime': 'Lipschitz Estimates'}, inplace=True)\n",
    "lc_lime_df['method'] = 'LIME'\n",
    "lc_lime_df['Dataset'] = 'Iris'\n",
    "\n",
    "lc_shap_df = epsilon1.loc[:, ['lc_coefficient_shap']]\n",
    "lc_shap_df.rename(columns={'lc_coefficient_shap': 'Lipschitz Estimates'}, inplace=True)\n",
    "lc_shap_df['method'] = 'SHAP'\n",
    "lc_shap_df['Dataset'] = 'Iris'"
   ]
  },
  {
   "cell_type": "markdown",
   "metadata": {},
   "source": [
    "# 5. Visualize Results"
   ]
  },
  {
   "cell_type": "markdown",
   "metadata": {},
   "source": [
    "### Highest deviation example and corresponding LIME and SHAP examples"
   ]
  },
  {
   "cell_type": "code",
   "execution_count": 507,
   "metadata": {},
   "outputs": [
    {
     "name": "stdout",
     "output_type": "stream",
     "text": [
      "['sepal length (cm)', 'sepal width (cm)', 'petal length (cm)', 'petal width (cm)']\n",
      "\n",
      "Anchor Point in worst deviation case\n",
      "[5.1 3.4 1.5 0.2]\n",
      "[0.029, 0.015, 0.428, 0.433]\n",
      "[0.067, 0.003, 0.294, 0.302]\n",
      "\n",
      "Deviation Point in LIME explanation\n",
      "[5.  3.4 1.6 0.4]\n",
      "[0.004, 0.008, -0.039, -0.07]\n",
      "\n",
      "Deviation Point in SHAP explanation\n",
      "[5.5 3.5 1.3 0.2]\n",
      "[-0.023, 0.003, 0.312, 0.319]\n"
     ]
    }
   ],
   "source": [
    "print(feature_names)\n",
    "\n",
    "print('\\nAnchor Point in worst deviation case')\n",
    "print(anchor_point)\n",
    "print(anchor_point_lime_exp)\n",
    "print(anchor_point_shap_exp)\n",
    "\n",
    "print('\\nDeviation Point in LIME explanation')\n",
    "print(deviation_point_lime)\n",
    "print(deviation_point_lime_exp)\n",
    "\n",
    "print('\\nDeviation Point in SHAP explanation')\n",
    "print(deviation_point_shap)\n",
    "print(deviation_point_shap_exp)"
   ]
  },
  {
   "cell_type": "markdown",
   "metadata": {},
   "source": [
    "## Final plot to explain deviation as unstability in explanations"
   ]
  },
  {
   "cell_type": "code",
   "execution_count": 542,
   "metadata": {},
   "outputs": [
    {
     "data": {
      "image/png": "[encoded data removed]",
      "text/plain": [
       "<Figure size 1512x864 with 8 Axes>"
      ]
     },
     "metadata": {
      "needs_background": "light"
     },
     "output_type": "display_data"
    }
   ],
   "source": [
    "# Some example data to display\n",
    "x = np.linspace(0, 2 * np.pi, 400)\n",
    "y = np.sin(x ** 2)\n",
    "threshold = 0\n",
    "\n",
    "fig, axs = plt.subplots(2, 4)\n",
    "# fig.set_size_inches(20.5, 12.5)\n",
    "fig.set_size_inches(21, 12)\n",
    "\n",
    "\n",
    "# position axs[0, 0]\n",
    "axs[0, 0].set_title('Feature Value')\n",
    "colors = [[\"#3DE8F7\",\"w\"],[ \"#3DE8F7\",\"w\"], [ \"#3DE8F7\",\"w\"], [ \"#3DE8F7\",\"w\"]]\n",
    "anchor_point_dict = dict(zip(feature_names, anchor_point))\n",
    "anchor_point_df = pd.DataFrame.from_dict(anchor_point_dict, orient='index').reset_index()\n",
    "table = axs[0, 0].table(\n",
    "    cellText = anchor_point_df.values,\n",
    "    loc = 'center',\n",
    "    cellColours = colors,\n",
    "    colWidths=[0.3] * 2)\n",
    "table.set_fontsize(12)\n",
    "table.scale(1.5,6)\n",
    "cellDict = table.get_celld()\n",
    "cellDict[(0,1)].set_width(0.15)\n",
    "cellDict[(1,1)].set_width(0.15)\n",
    "cellDict[(2,1)].set_width(0.15)\n",
    "cellDict[(3,1)].set_width(0.15)\n",
    "axs[0, 0].axis('off')\n",
    "axs[0, 0].axis('tight')\n",
    "\n",
    "\n",
    "# position axs[0, 1]\n",
    "axs[0, 1].set_title('Explanation')\n",
    "x = feature_names[::-1]\n",
    "y = np.array(anchor_point_shap_exp[::-1]) # anchor_point_shap_exp\n",
    "# print(x, y)\n",
    "width = 0.75 # the width of the bars \n",
    "ind = np.arange(len(y))  # the x locations for the groups\n",
    "above_threshold = np.maximum(y - threshold, 0)\n",
    "below_threshold = np.minimum(y, threshold)\n",
    "axs[0, 1].barh(x, below_threshold, width, color=\"#FF4D4D\") # below threshold value\n",
    "axs[0, 1].barh(x, above_threshold, width, color=\"#3DE8F7\", left=below_threshold) # above threshold value\n",
    "axs[0, 1].set_yticks(ind+width/2)\n",
    "\n",
    "\n",
    "# position axs[0, 2]\n",
    "axs[0, 2].set_title('Feature Value')\n",
    "colors = [[\"#3DE8F7\",\"w\"],[ \"#3DE8F7\",\"w\"], [ \"#3DE8F7\",\"w\"], [ \"#3DE8F7\",\"w\"]]\n",
    "anchor_point_dict = dict(zip(feature_names, anchor_point))\n",
    "anchor_point_df = pd.DataFrame.from_dict(anchor_point_dict, orient='index').reset_index()\n",
    "table = axs[0, 2].table(\n",
    "    cellText = anchor_point_df.values,\n",
    "    loc = 'center',\n",
    "    cellColours = colors,\n",
    "    colWidths=[0.3] * 2)\n",
    "table.set_fontsize(12)\n",
    "table.scale(1.5,6)\n",
    "cellDict = table.get_celld()\n",
    "cellDict[(0,1)].set_width(0.15)\n",
    "cellDict[(1,1)].set_width(0.15)\n",
    "cellDict[(2,1)].set_width(0.15)\n",
    "cellDict[(3,1)].set_width(0.15)\n",
    "axs[0, 2].axis('off')\n",
    "axs[0, 2].axis('tight')\n",
    "\n",
    "\n",
    "# position axs[0, 3]\n",
    "axs[0, 3].set_title('Explanation')\n",
    "x = feature_names[::-1]\n",
    "y = np.array(anchor_point_lime_exp[::-1]) # # anchor_point_lime_exp\n",
    "# print(x, y)\n",
    "width = 0.75 # the width of the bars \n",
    "ind = np.arange(len(y))  # the x locations for the groups\n",
    "above_threshold = np.maximum(y - threshold, 0)\n",
    "below_threshold = np.minimum(y, threshold)\n",
    "# ax.barh(ind, y, width, color=\"#3DE8F7\")\n",
    "axs[0, 3].barh(x, below_threshold, width, color=\"#FF4D4D\") # below threshold value\n",
    "axs[0, 3].barh(x, above_threshold, width, color=\"#3DE8F7\", left=below_threshold) # above threshold value\n",
    "axs[0, 3].set_yticks(ind+width/2)\n",
    "\n",
    "\n",
    "\n",
    "\n",
    "# position axs[1, 0]\n",
    "axs[1, 0].set_title('Feature Value')\n",
    "colors = [[\"#FF4D4D\",\"w\"],[ \"#3DE8F7\",\"w\"], [ \"#3DE8F7\",\"w\"], [ \"#3DE8F7\",\"w\"]]\n",
    "deviation_point_dict = dict(zip(feature_names, deviation_point_shap)) # deviation_point_shap\n",
    "deviation_point_df = pd.DataFrame.from_dict(deviation_point_dict, orient='index').reset_index()\n",
    "table = axs[1, 0].table(\n",
    "    cellText = deviation_point_df.values,\n",
    "    loc = 'center',\n",
    "    cellColours = colors,\n",
    "    colWidths=[0.3] * 2)\n",
    "table.set_fontsize(12)\n",
    "table.scale(1.5,6)\n",
    "cellDict = table.get_celld()\n",
    "cellDict[(0,1)].set_width(0.15)\n",
    "cellDict[(1,1)].set_width(0.15)\n",
    "cellDict[(2,1)].set_width(0.15)\n",
    "cellDict[(3,1)].set_width(0.15)\n",
    "axs[1, 0].axis('off')\n",
    "axs[1, 0].axis('tight')\n",
    "\n",
    "\n",
    "# position axs[1, 1]\n",
    "axs[1, 1].set_title('Explanation')\n",
    "x = feature_names[::-1]\n",
    "y = np.array(deviation_point_shap_exp[::-1]) # deviation_point_shap_exp\n",
    "# print(x, y)\n",
    "width = 0.75 # the width of the bars \n",
    "ind = np.arange(len(y))  # the x locations for the groups\n",
    "above_threshold = np.maximum(y - threshold, 0)\n",
    "below_threshold = np.minimum(y, threshold)\n",
    "# ax.barh(ind, y, width, color=\"#3DE8F7\")\n",
    "axs[1, 1].barh(x, below_threshold, width, color=\"#FF4D4D\") # below threshold value\n",
    "axs[1, 1].barh(x, above_threshold, width, color=\"#3DE8F7\", left=below_threshold) # above threshold value\n",
    "axs[1, 1].set_yticks(ind+width/2)\n",
    "\n",
    "\n",
    "# position axs[1, 2]\n",
    "axs[1, 2].set_title('Feature Value')\n",
    "colors = [[\"#3DE8F7\",\"w\"],[ \"#3DE8F7\",\"w\"], [ \"#FF4D4D\",\"w\"], [ \"#FF4D4D\",\"w\"]]\n",
    "deviation_point_dict = dict(zip(feature_names, deviation_point_lime)) # deviation_point_lime\n",
    "deviation_point_df = pd.DataFrame.from_dict(deviation_point_dict, orient='index').reset_index()\n",
    "table = axs[1, 2].table(\n",
    "    cellText = deviation_point_df.values,\n",
    "    loc = 'center',\n",
    "    cellColours = colors,\n",
    "    colWidths=[0.3] * 2)\n",
    "table.set_fontsize(12)\n",
    "table.scale(1.5,6)\n",
    "cellDict = table.get_celld()\n",
    "cellDict[(0,1)].set_width(0.15)\n",
    "cellDict[(1,1)].set_width(0.15)\n",
    "cellDict[(2,1)].set_width(0.15)\n",
    "cellDict[(3,1)].set_width(0.15)\n",
    "axs[1, 2].axis('off')\n",
    "axs[1, 2].axis('tight')\n",
    "\n",
    "\n",
    "# position axs[1, 3]\n",
    "axs[1, 3].set_title('Explanation')\n",
    "x = feature_names[::-1]\n",
    "y = np.array(deviation_point_lime_exp[::-1]) # deviation_point_lime_exp\n",
    "# print(x,y)\n",
    "width = 0.75 # the width of the bars \n",
    "ind = np.arange(len(y))  # the x locations for the groups\n",
    "above_threshold = np.maximum(y - threshold, 0)\n",
    "below_threshold = np.minimum(y, threshold)\n",
    "# ax.barh(ind, y, width, color=\"#3DE8F7\")\n",
    "axs[1, 3].barh(x, below_threshold, width, color=\"#FF4D4D\") # below threshold value\n",
    "axs[1, 3].barh(x, above_threshold, width, color=\"#3DE8F7\", left=below_threshold) # above threshold value\n",
    "axs[1, 3].set_yticks(ind+width/2)\n",
    "\n",
    "# for ax in axs.flat:\n",
    "#     ax.set(xlabel='x-label', ylabel='y-label')\n",
    "\n",
    "# # Hide x labels and tick labels for top plots and y ticks for right plots.\n",
    "# for ax in axs.flat:\n",
    "#     ax.label_outer()\n",
    "\n",
    "# fig.suptitle('(a) SHAP (L=0.2)', fontsize=16)\n",
    "\n",
    "fig.text(0.3, 0.04, '(a) SHAP (L=0.20)', ha='center', fontsize=34, fontstyle='italic')\n",
    "fig.text(0.7, 0.04, '(b) LIME (L=2.80)', ha='center', fontsize=34, fontstyle='italic')\n",
    "\n",
    "fig.savefig(plots_path + 'experiments_figure1.png')"
   ]
  },
  {
   "cell_type": "markdown",
   "metadata": {},
   "source": [
    "### Visualize lipschitz estimations for all test instances"
   ]
  },
  {
   "cell_type": "code",
   "execution_count": 505,
   "metadata": {},
   "outputs": [],
   "source": [
    "box_plot_df = lc_lime_df.append(lc_shap_df)"
   ]
  },
  {
   "cell_type": "code",
   "execution_count": 509,
   "metadata": {},
   "outputs": [],
   "source": [
    "filename = 'iris_box_plot_df.csv'\n",
    "box_plot_df.to_csv(generate_csv_path + filename, index=True)"
   ]
  },
  {
   "cell_type": "code",
   "execution_count": 503,
   "metadata": {},
   "outputs": [
    {
     "data": {
      "text/html": [
       "[None]"
      ],
      "text/plain": [
       "[None]"
      ]
     },
     "execution_count": 503,
     "metadata": {},
     "output_type": "execute_result"
    },
    {
     "data": {
      "image/png": "[encoded data removed]",
      "text/plain": [
       "<Figure size 432x288 with 1 Axes>"
      ]
     },
     "metadata": {
      "needs_background": "light"
     },
     "output_type": "display_data"
    }
   ],
   "source": [
    "box_plot = sns.boxplot(x=\"Dataset\", y=\"Lipschitz Estimates\", hue=\"method\", data=box_plot_df)\n",
    "box_plot.set(yscale=\"log\")\n",
    "# sns.despine(offset=10, trim=True)"
   ]
  },
  {
   "cell_type": "markdown",
   "metadata": {},
   "source": [
    "### Visualize lipschitz estimations for all test instances from UCI classification datasets"
   ]
  },
  {
   "cell_type": "code",
   "execution_count": 517,
   "metadata": {},
   "outputs": [
    {
     "data": {
      "text/html": [
       "<div>\n",
       "<style scoped>\n",
       "    .dataframe tbody tr th:only-of-type {\n",
       "        vertical-align: middle;\n",
       "    }\n",
       "\n",
       "    .dataframe tbody tr th {\n",
       "        vertical-align: top;\n",
       "    }\n",
       "\n",
       "    .dataframe thead th {\n",
       "        text-align: right;\n",
       "    }\n",
       "</style>\n",
       "<table border=\"1\" class=\"dataframe\">\n",
       "  <thead>\n",
       "    <tr style=\"text-align: right;\">\n",
       "      <th></th>\n",
       "      <th>Lipschitz Estimates</th>\n",
       "      <th>method</th>\n",
       "      <th>Dataset</th>\n",
       "    </tr>\n",
       "  </thead>\n",
       "  <tbody>\n",
       "    <tr>\n",
       "      <td>0</td>\n",
       "      <td>2.803608</td>\n",
       "      <td>LIME</td>\n",
       "      <td>Iris</td>\n",
       "    </tr>\n",
       "    <tr>\n",
       "      <td>1</td>\n",
       "      <td>2.803608</td>\n",
       "      <td>LIME</td>\n",
       "      <td>Iris</td>\n",
       "    </tr>\n",
       "    <tr>\n",
       "      <td>2</td>\n",
       "      <td>0.018179</td>\n",
       "      <td>LIME</td>\n",
       "      <td>Iris</td>\n",
       "    </tr>\n",
       "    <tr>\n",
       "      <td>3</td>\n",
       "      <td>0.690476</td>\n",
       "      <td>LIME</td>\n",
       "      <td>Iris</td>\n",
       "    </tr>\n",
       "    <tr>\n",
       "      <td>4</td>\n",
       "      <td>1.002488</td>\n",
       "      <td>LIME</td>\n",
       "      <td>Iris</td>\n",
       "    </tr>\n",
       "  </tbody>\n",
       "</table>\n",
       "</div>"
      ],
      "text/plain": [
       "   Lipschitz Estimates method Dataset\n",
       "0             2.803608   LIME    Iris\n",
       "1             2.803608   LIME    Iris\n",
       "2             0.018179   LIME    Iris\n",
       "3             0.690476   LIME    Iris\n",
       "4             1.002488   LIME    Iris"
      ]
     },
     "metadata": {},
     "output_type": "display_data"
    },
    {
     "data": {
      "text/html": [
       "<div>\n",
       "<style scoped>\n",
       "    .dataframe tbody tr th:only-of-type {\n",
       "        vertical-align: middle;\n",
       "    }\n",
       "\n",
       "    .dataframe tbody tr th {\n",
       "        vertical-align: top;\n",
       "    }\n",
       "\n",
       "    .dataframe thead th {\n",
       "        text-align: right;\n",
       "    }\n",
       "</style>\n",
       "<table border=\"1\" class=\"dataframe\">\n",
       "  <thead>\n",
       "    <tr style=\"text-align: right;\">\n",
       "      <th></th>\n",
       "      <th>Lipschitz Estimates</th>\n",
       "      <th>method</th>\n",
       "      <th>Dataset</th>\n",
       "    </tr>\n",
       "  </thead>\n",
       "  <tbody>\n",
       "    <tr>\n",
       "      <td>38</td>\n",
       "      <td>0.009346</td>\n",
       "      <td>SHAP</td>\n",
       "      <td>Glass</td>\n",
       "    </tr>\n",
       "    <tr>\n",
       "      <td>39</td>\n",
       "      <td>0.072976</td>\n",
       "      <td>SHAP</td>\n",
       "      <td>Glass</td>\n",
       "    </tr>\n",
       "    <tr>\n",
       "      <td>40</td>\n",
       "      <td>0.034557</td>\n",
       "      <td>SHAP</td>\n",
       "      <td>Glass</td>\n",
       "    </tr>\n",
       "    <tr>\n",
       "      <td>41</td>\n",
       "      <td>0.055203</td>\n",
       "      <td>SHAP</td>\n",
       "      <td>Glass</td>\n",
       "    </tr>\n",
       "    <tr>\n",
       "      <td>42</td>\n",
       "      <td>0.088517</td>\n",
       "      <td>SHAP</td>\n",
       "      <td>Glass</td>\n",
       "    </tr>\n",
       "  </tbody>\n",
       "</table>\n",
       "</div>"
      ],
      "text/plain": [
       "    Lipschitz Estimates method Dataset\n",
       "38             0.009346   SHAP   Glass\n",
       "39             0.072976   SHAP   Glass\n",
       "40             0.034557   SHAP   Glass\n",
       "41             0.055203   SHAP   Glass\n",
       "42             0.088517   SHAP   Glass"
      ]
     },
     "metadata": {},
     "output_type": "display_data"
    }
   ],
   "source": [
    "iris_box_plot_df = box_plot_df.copy()\n",
    "iono_box_plot_df = pd.read_csv(generate_csv_path + \"iono_box_plot_df.csv\", index_col=0)\n",
    "glass_box_plot_df = pd.read_csv(generate_csv_path + \"glass_box_plot_df.csv\", index_col=0)\n",
    "\n",
    "box_plots = iris_box_plot_df.append(iono_box_plot_df)\n",
    "box_plots = box_plots.append(glass_box_plot_df)\n",
    "\n",
    "# display(box_plots.head())\n",
    "# display(box_plots.tail())"
   ]
  },
  {
   "cell_type": "code",
   "execution_count": 527,
   "metadata": {},
   "outputs": [
    {
     "data": {
      "image/png": "[encoded data removed]",
      "text/plain": [
       "<Figure size 864x432 with 1 Axes>"
      ]
     },
     "metadata": {
      "needs_background": "light"
     },
     "output_type": "display_data"
    }
   ],
   "source": [
    "plt.figure(figsize=(12, 6))\n",
    "box_plot = sns.boxplot(x=\"Dataset\", y=\"Lipschitz Estimates\", hue=\"method\", data=box_plots)\n",
    "box_plot.set(yscale=\"log\")\n",
    "plt.savefig(plots_path + 'experiments_figure2.png')"
   ]
  },
  {
   "cell_type": "code",
   "execution_count": null,
   "metadata": {},
   "outputs": [],
   "source": []
  },
  {
   "cell_type": "code",
   "execution_count": null,
   "metadata": {},
   "outputs": [],
   "source": []
  },
  {
   "cell_type": "markdown",
   "metadata": {},
   "source": [
    "### Exploring section\n",
    "    Does not include in work"
   ]
  },
  {
   "cell_type": "markdown",
   "metadata": {},
   "source": [
    "### LIME visualizations by single points"
   ]
  },
  {
   "cell_type": "code",
   "execution_count": null,
   "metadata": {},
   "outputs": [],
   "source": []
  },
  {
   "cell_type": "code",
   "execution_count": null,
   "metadata": {},
   "outputs": [],
   "source": [
    "explainer_lime = LimeTabularExplainer(train,\n",
    "                                      mode = 'classification',\n",
    "                                      training_labels = labels_train,\n",
    "                                      feature_names=feature_names,\n",
    "                                      verbose=False,\n",
    "                                      class_names=target_names,\n",
    "                                      feature_selection='auto',\n",
    "                                      discretize_continuous=True)"
   ]
  },
  {
   "cell_type": "code",
   "execution_count": null,
   "metadata": {},
   "outputs": [],
   "source": [
    "\n",
    "x_instance = test[anchor_index]\n",
    "LR_exp_lime = explainer_lime.explain_instance(x_instance,\n",
    "                                                 LR_iris.predict_proba,\n",
    "                                                 labels=np.unique(iris.target),\n",
    "                                                 top_labels=None,\n",
    "                                                 num_features=len(x_instance),\n",
    "                                                 num_samples=6000)"
   ]
  },
  {
   "cell_type": "code",
   "execution_count": null,
   "metadata": {},
   "outputs": [],
   "source": [
    "LR_exp_lime.show_in_notebook()"
   ]
  },
  {
   "cell_type": "code",
   "execution_count": null,
   "metadata": {},
   "outputs": [],
   "source": [
    "x_instance = test[similar_point_index]\n",
    "LR_exp_lime = explainer_lime.explain_instance(x_instance,\n",
    "                                                 LR_iris.predict_proba,\n",
    "                                                 labels=np.unique(iris.target),\n",
    "                                                 top_labels=None,\n",
    "                                                 num_features=len(x_instance),\n",
    "                                                 num_samples=6000)"
   ]
  },
  {
   "cell_type": "code",
   "execution_count": null,
   "metadata": {},
   "outputs": [],
   "source": [
    "LR_exp_lime.show_in_notebook()"
   ]
  },
  {
   "cell_type": "code",
   "execution_count": null,
   "metadata": {},
   "outputs": [],
   "source": [
    "i = np.random.randint(0, test.shape[0])\n",
    "i = 0\n",
    "\n",
    "LR_exp_lime_map = LR_exp_lime.as_map()\n",
    "# pprint(LR_exp_lime_map)\n",
    "\n",
    "print('Predicted class for i:', labels_pred_lr[i])\n",
    "LR_exp_lime_list = LR_exp_lime.as_list(label=labels_pred_lr[i])\n",
    "# pprint(LR_exp_lime_list)"
   ]
  },
  {
   "cell_type": "markdown",
   "metadata": {},
   "source": [
    "## Conclusions"
   ]
  },
  {
   "cell_type": "code",
   "execution_count": null,
   "metadata": {},
   "outputs": [],
   "source": [
    "lr_lime_iris = [2.657, 3.393, 1.495]\n",
    "rf_lime_iris = [3.010, 3.783, 1.767]\n",
    "lr_shap_iris = [2.716, 3.512, 1.463]\n",
    "rf_shap_iris = [1.969, 3.546, 2.136]"
   ]
  },
  {
   "cell_type": "code",
   "execution_count": null,
   "metadata": {},
   "outputs": [],
   "source": [
    "find_min_vector = np.array([lr_lime_iris, rf_lime_iris, lr_shap_iris, rf_shap_iris])\n",
    "np.amin(find_min_vector, axis=0)"
   ]
  },
  {
   "cell_type": "code",
   "execution_count": null,
   "metadata": {},
   "outputs": [],
   "source": [
    "from sklearn.linear_model import Ridge\n",
    "import numpy as np\n",
    "n_samples, n_features = 10, 5\n",
    "rng = np.random.RandomState(0)\n",
    "y = rng.randn(n_samples)\n",
    "X = rng.randn(n_samples, n_features)\n",
    "clf = Ridge(alpha=1.0)\n",
    "clf.fit(X, y)"
   ]
  },
  {
   "cell_type": "code",
   "execution_count": null,
   "metadata": {},
   "outputs": [],
   "source": []
  },
  {
   "cell_type": "code",
   "execution_count": null,
   "metadata": {},
   "outputs": [],
   "source": []
  },
  {
   "cell_type": "code",
   "execution_count": null,
   "metadata": {},
   "outputs": [],
   "source": []
  },
  {
   "cell_type": "code",
   "execution_count": null,
   "metadata": {},
   "outputs": [],
   "source": []
  },
  {
   "cell_type": "markdown",
   "metadata": {},
   "source": [
    "### Debuging Space"
   ]
  },
  {
   "cell_type": "code",
   "execution_count": null,
   "metadata": {},
   "outputs": [],
   "source": [
    "\"\"\" Use euclidean distance to define neighborhood points\n",
    "\"\"\"\n",
    "display(X.head())\n",
    "points = X.values\n",
    "epsilon = 0.75 * np.sqrt(len(points[0]))\n",
    "\n",
    "dist = (points[0] - points[1:])**2\n",
    "dist = np.sum(dist, axis=1)\n",
    "dist = np.sqrt(dist)\n",
    "print(dist)\n",
    "neighborhood_indices = []\n",
    "for index in range(0, len(dist)):\n",
    "    if dist[index] < epsilon:\n",
    "        neighborhood_indices.append(index)\n",
    "print(neighborhood_indices)"
   ]
  }
 ],
 "metadata": {
  "kernelspec": {
   "display_name": "Python 3",
   "language": "python",
   "name": "python3"
  },
  "language_info": {
   "codemirror_mode": {
    "name": "ipython",
    "version": 3
   },
   "file_extension": ".py",
   "mimetype": "text/x-python",
   "name": "python",
   "nbconvert_exporter": "python",
   "pygments_lexer": "ipython3",
   "version": "3.6.6"
  }
 },
 "nbformat": 4,
 "nbformat_minor": 4
}
